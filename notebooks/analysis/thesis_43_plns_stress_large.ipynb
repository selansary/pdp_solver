{
 "cells": [
  {
   "cell_type": "code",
   "execution_count": 23,
   "metadata": {},
   "outputs": [],
   "source": [
    "# pdp package path\n",
    "import os, sys\n",
    "sys.path.insert(1, os.path.join(os.getcwd()  , '../..'))\n",
    "\n",
    "# imports\n",
    "import random\n",
    "import time\n",
    "from collections import defaultdict\n",
    "from core import * \n",
    "import plotly.graph_objects as go\n",
    "from plotly.subplots import make_subplots"
   ]
  },
  {
   "cell_type": "code",
   "execution_count": 24,
   "metadata": {},
   "outputs": [],
   "source": [
    "## Define problems with sizes 10, 15, 20\n",
    "# Each with an id 1, 2, 3, ... where (id // 3) * 5 + 10 = number of requests\n",
    "\n",
    "possible_items = [\n",
    "    TwoDimensionalItem(300, 400),\n",
    "    TwoDimensionalItem(600, 300),\n",
    "    TwoDimensionalItem(600, 400),\n",
    "    TwoDimensionalItem(300, 200),\n",
    "]\n",
    "\n",
    "# 2 small compartments and 2 large compartments\n",
    "small_vehicle = Vehicle(\n",
    "    compartments=[\n",
    "        TwoDimensionalCompartment(800, 300),\n",
    "        TwoDimensionalCompartment(800, 300),\n",
    "        TwoDimensionalCompartment(800, 600),\n",
    "        TwoDimensionalCompartment(800, 600), \n",
    "    ]\n",
    ")\n",
    "\n",
    "# 3 small compartments and 2 large compartments\n",
    "medium_vehicle = Vehicle(\n",
    "    compartments=[\n",
    "        TwoDimensionalCompartment(800, 300),\n",
    "        TwoDimensionalCompartment(800, 300),\n",
    "        TwoDimensionalCompartment(800, 300),\n",
    "        TwoDimensionalCompartment(800, 600),\n",
    "        TwoDimensionalCompartment(800, 600), \n",
    "    ]\n",
    ")\n",
    "\n",
    "# 3 small compartments and 3 large compartments\n",
    "large_vehicle = Vehicle(\n",
    "    compartments=[\n",
    "        TwoDimensionalCompartment(800, 300),\n",
    "        TwoDimensionalCompartment(800, 300),\n",
    "        TwoDimensionalCompartment(800, 300),\n",
    "        TwoDimensionalCompartment(800, 600),\n",
    "        TwoDimensionalCompartment(800, 600),\n",
    "        TwoDimensionalCompartment(800, 600),  \n",
    "    ]\n",
    ")\n",
    "\n",
    "vehicles = [small_vehicle, medium_vehicle, large_vehicle]\n",
    "\n",
    "group_size = 3\n",
    "instance_sizes = [20]\n",
    "problem_ids = list(range(group_size * len(instance_sizes)))\n",
    "\n",
    "# create random problems with seed based on id!\n",
    "problems = []\n",
    "modelled_problems = []\n",
    "for prob_id in problem_ids:\n",
    "    instance_size_idx = prob_id // group_size\n",
    "    instance_size = instance_sizes[instance_size_idx]\n",
    "    nb_items = instance_size\n",
    "    vehicle = small_vehicle\n",
    "    V = list(range(0, nb_items * 2 + 1))\n",
    "    random.seed(prob_id)\n",
    "    items = random.choices(possible_items, k=nb_items)\n",
    "    random.seed(prob_id)\n",
    "    distance_matrix = [\n",
    "        [random.randint(1, 100) if i != 0 and j!=0 and i != j else 0 for i in V]\n",
    "        for j in V\n",
    "    ]\n",
    "    \n",
    "    problem = TwoDimensionalProblem(items, vehicle, distance_matrix, name=f\"prob_{prob_id}\")\n",
    "    problems.append(problem)\n",
    "\n",
    "    # Modellel Problem for time-limited gurobi\n",
    "    modelled_problem = ModelledTwoDimensionalProblem(items, vehicle, distance_matrix=distance_matrix)\n",
    "    modelled_problem.create_model()\n",
    "    modelled_problem.apply_constraints()\n",
    "    modelled_problem.set_model_objective()\n",
    "    modelled_problems.append(modelled_problem)\n"
   ]
  },
  {
   "cell_type": "code",
   "execution_count": 25,
   "metadata": {},
   "outputs": [
    {
     "name": "stdout",
     "output_type": "stream",
     "text": [
      "Set parameter TimeLimit to value 3\n",
      "Gurobi Optimizer version 9.5.0 build v9.5.0rc5 (linux64)\n",
      "Thread count: 6 physical cores, 12 logical processors, using up to 12 threads\n",
      "Optimize a model with 15447 rows, 2150 columns and 74727 nonzeros\n",
      "Model fingerprint: 0x669357f7\n",
      "Variable types: 0 continuous, 2150 integer (1945 binary)\n",
      "Coefficient statistics:\n",
      "  Matrix range     [1e+00, 1e+03]\n",
      "  Objective range  [1e+00, 1e+02]\n",
      "  Bounds range     [1e+00, 8e+02]\n",
      "  RHS range        [1e+00, 8e+02]\n",
      "Presolve removed 1162 rows and 308 columns\n",
      "Presolve time: 0.27s\n",
      "Presolved: 14285 rows, 1842 columns, 53994 nonzeros\n",
      "Variable types: 0 continuous, 1842 integer (1642 binary)\n",
      "Found heuristic solution: objective 2181.0000000\n",
      "\n",
      "Root relaxation: objective 1.416261e+02, 1339 iterations, 0.28 seconds (0.36 work units)\n",
      "\n",
      "    Nodes    |    Current Node    |     Objective Bounds      |     Work\n",
      " Expl Unexpl |  Obj  Depth IntInf | Incumbent    BestBd   Gap | It/Node Time\n",
      "\n",
      "     0     0  141.62612    0  141 2181.00000  141.62612  93.5%     -    0s\n",
      "     0     0  145.00000    0   66 2181.00000  145.00000  93.4%     -    1s\n",
      "     0     0  145.23944    0  223 2181.00000  145.23944  93.3%     -    1s\n",
      "     0     0  145.24032    0  212 2181.00000  145.24032  93.3%     -    1s\n",
      "     0     0  145.24105    0  219 2181.00000  145.24105  93.3%     -    1s\n",
      "     0     0  145.24105    0  219 2181.00000  145.24105  93.3%     -    1s\n",
      "     0     0  146.08750    0  131 2181.00000  146.08750  93.3%     -    2s\n",
      "     0     0  146.08750    0  126 2181.00000  146.08750  93.3%     -    2s\n",
      "     0     0  146.50000    0  139 2181.00000  146.50000  93.3%     -    2s\n",
      "     0     0  146.50000    0  168 2181.00000  146.50000  93.3%     -    2s\n",
      "     0     0  146.50000    0  166 2181.00000  146.50000  93.3%     -    2s\n",
      "     0     0  146.50000    0  129 2181.00000  146.50000  93.3%     -    2s\n",
      "\n",
      "Cutting planes:\n",
      "  Gomory: 1\n",
      "  Cover: 2\n",
      "  Implied bound: 8\n",
      "  MIR: 55\n",
      "  StrongCG: 4\n",
      "  Zero half: 1\n",
      "  RLT: 8\n",
      "  Relax-and-lift: 9\n",
      "  BQP: 1\n",
      "\n",
      "Explored 1 nodes (3173 simplex iterations) in 3.02 seconds (2.05 work units)\n",
      "Thread count was 12 (of 12 available processors)\n",
      "\n",
      "Solution count 1: 2181 \n",
      "\n",
      "Time limit reached\n",
      "Best objective 2.181000000000e+03, best bound 1.470000000000e+02, gap 93.2600%\n",
      "Set parameter TimeLimit to value 3\n",
      "Gurobi Optimizer version 9.5.0 build v9.5.0rc5 (linux64)\n",
      "Thread count: 6 physical cores, 12 logical processors, using up to 12 threads\n",
      "Optimize a model with 15447 rows, 2150 columns and 74727 nonzeros\n",
      "Model fingerprint: 0x232a3033\n",
      "Variable types: 0 continuous, 2150 integer (1945 binary)\n",
      "Coefficient statistics:\n",
      "  Matrix range     [1e+00, 1e+03]\n",
      "  Objective range  [1e+00, 1e+02]\n",
      "  Bounds range     [1e+00, 8e+02]\n",
      "  RHS range        [1e+00, 8e+02]\n",
      "Presolve removed 1180 rows and 314 columns\n",
      "Presolve time: 0.22s\n",
      "Presolved: 14267 rows, 1836 columns, 53322 nonzeros\n",
      "Variable types: 0 continuous, 1836 integer (1636 binary)\n",
      "Found heuristic solution: objective 1959.0000000\n",
      "\n",
      "Root relaxation: objective 1.672667e+02, 1680 iterations, 0.29 seconds (0.45 work units)\n",
      "\n",
      "    Nodes    |    Current Node    |     Objective Bounds      |     Work\n",
      " Expl Unexpl |  Obj  Depth IntInf | Incumbent    BestBd   Gap | It/Node Time\n",
      "\n",
      "     0     0  167.26667    0  119 1959.00000  167.26667  91.5%     -    0s\n",
      "H    0     0                    1775.0000000  167.26667  90.6%     -    0s\n",
      "     0     0  170.27273    0  136 1775.00000  170.27273  90.4%     -    0s\n",
      "     0     0  170.27273    0  136 1775.00000  170.27273  90.4%     -    1s\n",
      "     0     0  170.41129    0  198 1775.00000  170.41129  90.4%     -    1s\n",
      "     0     0  170.41349    0  201 1775.00000  170.41349  90.4%     -    1s\n",
      "     0     0  170.41349    0  201 1775.00000  170.41349  90.4%     -    1s\n",
      "     0     0  170.53226    0  164 1775.00000  170.53226  90.4%     -    1s\n",
      "     0     0  170.53226    0  154 1775.00000  170.53226  90.4%     -    1s\n",
      "     0     0  170.53226    0  179 1775.00000  170.53226  90.4%     -    2s\n",
      "     0     0  170.53226    0  164 1775.00000  170.53226  90.4%     -    2s\n",
      "     0     0  170.53226    0  152 1775.00000  170.53226  90.4%     -    2s\n",
      "     0     0  170.53226    0  153 1775.00000  170.53226  90.4%     -    2s\n",
      "     0     0  170.53226    0  155 1775.00000  170.53226  90.4%     -    2s\n",
      "     0     0          -    0      1775.00000  170.53226  90.4%     -    3s\n",
      "\n",
      "Cutting planes:\n",
      "  Gomory: 2\n",
      "  Implied bound: 1\n",
      "  MIR: 22\n",
      "  RLT: 9\n",
      "  Relax-and-lift: 9\n",
      "\n",
      "Explored 1 nodes (3429 simplex iterations) in 3.01 seconds (2.16 work units)\n",
      "Thread count was 12 (of 12 available processors)\n",
      "\n",
      "Solution count 2: 1775 1959 \n",
      "\n",
      "Time limit reached\n",
      "Best objective 1.775000000000e+03, best bound 1.710000000000e+02, gap 90.3662%\n",
      "Set parameter TimeLimit to value 3\n",
      "Gurobi Optimizer version 9.5.0 build v9.5.0rc5 (linux64)\n",
      "Thread count: 6 physical cores, 12 logical processors, using up to 12 threads\n",
      "Optimize a model with 15447 rows, 2150 columns and 74727 nonzeros\n",
      "Model fingerprint: 0x857e8ea8\n",
      "Variable types: 0 continuous, 2150 integer (1945 binary)\n",
      "Coefficient statistics:\n",
      "  Matrix range     [1e+00, 1e+03]\n",
      "  Objective range  [1e+00, 1e+02]\n",
      "  Bounds range     [1e+00, 8e+02]\n",
      "  RHS range        [1e+00, 8e+02]\n",
      "Presolve removed 1180 rows and 314 columns\n",
      "Presolve time: 0.24s\n",
      "Presolved: 14267 rows, 1836 columns, 53322 nonzeros\n",
      "Variable types: 0 continuous, 1836 integer (1636 binary)\n",
      "Found heuristic solution: objective 1862.0000000\n",
      "\n",
      "Root relaxation: objective 1.821875e+02, 1637 iterations, 0.28 seconds (0.49 work units)\n",
      "\n",
      "    Nodes    |    Current Node    |     Objective Bounds      |     Work\n",
      " Expl Unexpl |  Obj  Depth IntInf | Incumbent    BestBd   Gap | It/Node Time\n",
      "\n",
      "     0     0  182.18750    0   65 1862.00000  182.18750  90.2%     -    0s\n",
      "     0     0  182.50000    0  100 1862.00000  182.50000  90.2%     -    0s\n",
      "     0     0  182.50000    0  114 1862.00000  182.50000  90.2%     -    1s\n",
      "     0     0  183.05618    0  166 1862.00000  183.05618  90.2%     -    1s\n",
      "     0     0  183.05650    0  140 1862.00000  183.05650  90.2%     -    1s\n",
      "     0     0  183.05848    0  177 1862.00000  183.05848  90.2%     -    1s\n",
      "     0     0  183.05848    0  180 1862.00000  183.05848  90.2%     -    1s\n",
      "     0     0  183.05848    0  160 1862.00000  183.05848  90.2%     -    2s\n",
      "     0     0  183.05848    0  162 1862.00000  183.05848  90.2%     -    2s\n",
      "     0     0  183.05848    0  160 1862.00000  183.05848  90.2%     -    2s\n",
      "     0     0  183.05848    0  126 1862.00000  183.05848  90.2%     -    3s\n",
      "\n",
      "Cutting planes:\n",
      "  Gomory: 6\n",
      "  Cover: 3\n",
      "  Implied bound: 6\n",
      "  MIR: 36\n",
      "  StrongCG: 1\n",
      "  RLT: 8\n",
      "  Relax-and-lift: 7\n",
      "\n",
      "Explored 1 nodes (3482 simplex iterations) in 3.01 seconds (2.31 work units)\n",
      "Thread count was 12 (of 12 available processors)\n",
      "\n",
      "Solution count 1: 1862 \n",
      "\n",
      "Time limit reached\n",
      "Best objective 1.862000000000e+03, best bound 1.840000000000e+02, gap 90.1182%\n"
     ]
    }
   ],
   "source": [
    "# Initial, quick solutions by gurobi\n",
    "initial_solutions_dict = {}\n",
    "for prob_id, problem in enumerate(modelled_problems):\n",
    "    initial_solution_time_limit = 3 # 1 sec for 10, 2 for 15, 3 for 20  \n",
    "    modelled_problem = modelled_problems[prob_id]\n",
    "    modelled_problem.solve(time_limit=initial_solution_time_limit)\n",
    "    initial_solutions_dict[prob_id] = modelled_problem.extract_solution()"
   ]
  },
  {
   "cell_type": "code",
   "execution_count": 26,
   "metadata": {},
   "outputs": [
    {
     "name": "stdout",
     "output_type": "stream",
     "text": [
      "Parallel LNS initialized with 1 processes\n",
      "Parallel LNS initialized with 3 processes\n",
      "Parallel LNS initialized with 6 processes\n",
      "Parallel LNS initialized with 1 processes\n",
      "Parallel LNS initialized with 3 processes\n",
      "Parallel LNS initialized with 6 processes\n",
      "Parallel LNS initialized with 1 processes\n",
      "Parallel LNS initialized with 3 processes\n",
      "Parallel LNS initialized with 6 processes\n"
     ]
    }
   ],
   "source": [
    "# Convergence \n",
    "time_limit = 10\n",
    "rel_problem_ids = [0, 1, 2]\n",
    "nb_processes_list = [1, 3, 6]\n",
    "\n",
    "lns_conv_solvers = dict()\n",
    "for prob_id in rel_problem_ids:\n",
    "    problem = problems[prob_id]\n",
    "    init_sol = initial_solutions_dict[prob_id]\n",
    "    # min_d, max_d = (0.15, 0.15) if prob_id == 6 else (0.2, 0.2)\n",
    "    min_d, max_d = (0.15, 0.15)\n",
    "\n",
    "    prob_solvers = []\n",
    "    for nb_process in nb_processes_list:\n",
    "        plns = PLNS(problem, init_sol, time_limit=time_limit, nb_processes=nb_process, \n",
    "                    destroy_strategy=DestroyStrategy.HIGHEST_COST, \n",
    "                    min_destruction_degree=min_d, max_destruction_degree=max_d,\n",
    "                    )\n",
    "\n",
    "        plns.set_destruction_degree_criterion(DestructionDegreeCriterion.CONSTANT)\n",
    "        prob_solvers.append(plns)\n",
    "\n",
    "    lns_conv_solvers[prob_id] = prob_solvers\n"
   ]
  },
  {
   "cell_type": "code",
   "execution_count": 27,
   "metadata": {},
   "outputs": [
    {
     "name": "stdout",
     "output_type": "stream",
     "text": [
      "Parallel LNS timed out, not all insertion orders could be tried.\n",
      "Terminating LNS in 36 iterations\n",
      "Total time: 10.00 Best objective: 400 found in 22 iterations in 6.08 s\n",
      "\n",
      "Parallel LNS timed out, not all insertion orders could be tried.\n",
      "Terminating LNS in 29 iterations\n",
      "Total time: 10.00 Best objective: 446 found in 7 iterations in 2.53 s\n",
      "\n",
      "Parallel LNS timed out, not all insertion orders could be tried.\n",
      "Terminating LNS in 23 iterations\n",
      "Total time: 10.00 Best objective: 333 found in 8 iterations in 4.71 s\n",
      "\n",
      "Parallel LNS timed out, not all insertion orders could be tried.\n",
      "Terminating LNS in 33 iterations\n",
      "Total time: 10.00 Best objective: 643 found in 5 iterations in 1.62 s\n",
      "\n",
      "Parallel LNS timed out, not all insertion orders could be tried.\n",
      "Terminating LNS in 32 iterations\n",
      "Total time: 10.00 Best objective: 572 found in 6 iterations in 2.44 s\n",
      "\n",
      "Parallel LNS timed out, not all insertion orders could be tried.\n",
      "Terminating LNS in 19 iterations\n",
      "Total time: 10.00 Best objective: 572 found in 7 iterations in 4.30 s\n",
      "\n",
      "Parallel LNS timed out, not all insertion orders could be tried.\n",
      "Terminating LNS in 35 iterations\n",
      "Total time: 10.00 Best objective: 742 found in 3 iterations in 1.40 s\n",
      "\n",
      "Parallel LNS timed out, not all insertion orders could be tried.\n",
      "Terminating LNS in 31 iterations\n",
      "Total time: 10.00 Best objective: 486 found in 9 iterations in 3.38 s\n",
      "\n",
      "Parallel LNS timed out, not all insertion orders could be tried.\n",
      "Terminating LNS in 22 iterations\n",
      "Total time: 10.00 Best objective: 486 found in 9 iterations in 4.67 s\n",
      "\n"
     ]
    }
   ],
   "source": [
    "for prob_id in rel_problem_ids:\n",
    "    for solver in lns_conv_solvers[prob_id]:\n",
    "        solver.search()"
   ]
  },
  {
   "cell_type": "code",
   "execution_count": 28,
   "metadata": {},
   "outputs": [],
   "source": [
    "def get_solver_stats(solver):\n",
    "    objectives = [sol.objective for sol in solver.solutions_cache]\n",
    "    iterations = [sol.iteration for sol in solver.solutions_cache]\n",
    "    time_found = [\n",
    "        \"{:.2f}\".format(sol.time_to_find) for sol in solver.solutions_cache\n",
    "    ]\n",
    "\n",
    "    improving_solutions = []\n",
    "    best_obj = solver.solutions_cache[0].objective\n",
    "    for i, sol in enumerate(solver.solutions_cache):\n",
    "        if sol.objective < best_obj:\n",
    "            best_obj = sol.objective\n",
    "            improving_solutions.append(sol)\n",
    "\n",
    "    improving_iterations = [sol.iteration for sol in improving_solutions]\n",
    "    improving_objectives = [sol.objective for sol in improving_solutions]\n",
    "    improving_times = [\n",
    "        \"{:.2f}\".format(sol.time_to_find) for sol in improving_solutions\n",
    "    ]\n",
    "\n",
    "    stats = dict(\n",
    "        objectives=objectives,\n",
    "        iterations=iterations,\n",
    "        times_found=time_found,\n",
    "        improving_iterations=improving_iterations,\n",
    "        improving_objectives=improving_objectives,\n",
    "        improving_times=improving_times,\n",
    "    )\n",
    "\n",
    "    return stats"
   ]
  },
  {
   "cell_type": "code",
   "execution_count": 103,
   "metadata": {},
   "outputs": [
    {
     "data": {
      "application/vnd.plotly.v1+json": {
       "config": {
        "plotlyServerURL": "https://plot.ly"
       },
       "data": [
        {
         "marker": {
          "color": "#62BDE7"
         },
         "mode": "lines+markers",
         "name": "1 process(es) (impro)",
         "type": "scatter",
         "x": [
          "0.65",
          "0.92",
          "1.14",
          "1.30",
          "1.53",
          "1.76",
          "2.03",
          "2.67",
          "3.02",
          "3.28",
          "3.55",
          "5.35",
          "6.08"
         ],
         "xaxis": "x",
         "y": [
          1296,
          895,
          735,
          656,
          619,
          598,
          529,
          517,
          446,
          437,
          434,
          413,
          400
         ],
         "yaxis": "y"
        },
        {
         "marker": {
          "color": "#62BDE7"
         },
         "mode": "lines",
         "name": "1 process(es) (all)",
         "opacity": 0.5,
         "type": "scatter",
         "x": [
          "0.00",
          "0.65",
          "0.92",
          "1.14",
          "1.30",
          "1.53",
          "1.76",
          "2.03",
          "2.33",
          "2.67",
          "3.02",
          "3.28",
          "3.55",
          "3.83",
          "4.11",
          "4.37",
          "4.62",
          "4.87",
          "5.13",
          "5.35",
          "5.60",
          "5.84",
          "6.08",
          "6.38",
          "6.67",
          "6.95",
          "7.24",
          "7.54",
          "7.83",
          "8.12",
          "8.42",
          "8.69",
          "8.99",
          "9.27",
          "9.57",
          "9.86"
         ],
         "xaxis": "x",
         "y": [
          2181,
          1296,
          895,
          735,
          656,
          619,
          598,
          529,
          586,
          517,
          446,
          437,
          434,
          522,
          522,
          436,
          436,
          436,
          436,
          413,
          421,
          485,
          400,
          400,
          400,
          400,
          421,
          421,
          400,
          421,
          400,
          400,
          421,
          400,
          400,
          421
         ],
         "yaxis": "y"
        },
        {
         "marker": {
          "color": "#0D87BF"
         },
         "mode": "lines+markers",
         "name": "3 process(es) (impro)",
         "type": "scatter",
         "x": [
          "0.68",
          "1.03",
          "1.31",
          "1.59",
          "1.86",
          "2.17",
          "2.53"
         ],
         "xaxis": "x",
         "y": [
          1296,
          849,
          676,
          601,
          499,
          483,
          446
         ],
         "yaxis": "y"
        },
        {
         "marker": {
          "color": "#0D87BF"
         },
         "mode": "lines",
         "name": "3 process(es) (all)",
         "opacity": 0.5,
         "type": "scatter",
         "x": [
          "0.00",
          "0.68",
          "1.03",
          "1.31",
          "1.59",
          "1.86",
          "2.17",
          "2.53",
          "2.89",
          "3.22",
          "3.55",
          "3.91",
          "4.24",
          "4.58",
          "4.92",
          "5.27",
          "5.62",
          "5.96",
          "6.30",
          "6.63",
          "6.96",
          "7.31",
          "7.65",
          "8.02",
          "8.39",
          "8.77",
          "9.16",
          "9.53",
          "9.88"
         ],
         "xaxis": "x",
         "y": [
          2181,
          1296,
          849,
          676,
          601,
          499,
          483,
          446,
          446,
          446,
          480,
          480,
          480,
          446,
          446,
          446,
          446,
          446,
          446,
          480,
          485,
          446,
          446,
          446,
          446,
          446,
          446,
          446,
          480
         ],
         "yaxis": "y"
        },
        {
         "marker": {
          "color": "#0E3344"
         },
         "mode": "lines+markers",
         "name": "6 process(es) (impro)",
         "type": "scatter",
         "x": [
          "0.96",
          "1.49",
          "2.02",
          "2.68",
          "3.26",
          "3.72",
          "4.23",
          "4.71"
         ],
         "xaxis": "x",
         "y": [
          1296,
          815,
          766,
          620,
          453,
          361,
          350,
          333
         ],
         "yaxis": "y"
        },
        {
         "marker": {
          "color": "#0E3344"
         },
         "mode": "lines",
         "name": "6 process(es) (all)",
         "opacity": 0.5,
         "type": "scatter",
         "x": [
          "0.00",
          "0.96",
          "1.49",
          "2.02",
          "2.68",
          "3.26",
          "3.72",
          "4.23",
          "4.71",
          "5.08",
          "5.42",
          "5.77",
          "6.10",
          "6.44",
          "6.78",
          "7.08",
          "7.43",
          "7.77",
          "8.17",
          "8.55",
          "8.92",
          "9.29",
          "9.67",
          "10.00"
         ],
         "xaxis": "x",
         "y": [
          2181,
          1296,
          815,
          766,
          620,
          453,
          361,
          350,
          333,
          333,
          333,
          333,
          333,
          333,
          333,
          333,
          333,
          333,
          333,
          333,
          333,
          333,
          333,
          401
         ],
         "yaxis": "y"
        },
        {
         "marker": {
          "color": "#0E3344",
          "line": {
           "color": "#0E3344",
           "width": 2
          },
          "size": 14
         },
         "mode": "markers+text",
         "name": "problem 1 best",
         "opacity": 0.7,
         "showlegend": false,
         "text": [
          "(4.71, 333)"
         ],
         "textposition": "bottom center",
         "type": "scatter",
         "x": [
          4.712355613708496
         ],
         "xaxis": "x",
         "y": [
          333
         ],
         "yaxis": "y"
        },
        {
         "marker": {
          "color": "#62BDE7"
         },
         "mode": "lines+markers",
         "name": "1 process(es) (impro)",
         "showlegend": false,
         "type": "scatter",
         "x": [
          "0.36",
          "0.79",
          "0.99",
          "1.28",
          "1.62"
         ],
         "xaxis": "x2",
         "y": [
          1195,
          888,
          752,
          672,
          643
         ],
         "yaxis": "y2"
        },
        {
         "marker": {
          "color": "#62BDE7"
         },
         "mode": "lines",
         "name": "1 process(es) (all)",
         "opacity": 0.5,
         "showlegend": false,
         "type": "scatter",
         "x": [
          "0.00",
          "0.36",
          "0.79",
          "0.99",
          "1.28",
          "1.62",
          "1.93",
          "2.24",
          "2.59",
          "2.87",
          "3.14",
          "3.44",
          "3.74",
          "4.06",
          "4.34",
          "4.61",
          "4.89",
          "5.16",
          "5.44",
          "5.76",
          "6.08",
          "6.39",
          "6.68",
          "6.97",
          "7.29",
          "7.57",
          "7.90",
          "8.22",
          "8.55",
          "8.88",
          "9.24",
          "9.64",
          "9.95"
         ],
         "xaxis": "x2",
         "y": [
          1775,
          1195,
          888,
          752,
          672,
          643,
          643,
          643,
          643,
          643,
          643,
          643,
          643,
          643,
          643,
          643,
          643,
          643,
          643,
          643,
          643,
          643,
          643,
          643,
          643,
          643,
          643,
          643,
          643,
          643,
          643,
          643,
          643
         ],
         "yaxis": "y2"
        },
        {
         "marker": {
          "color": "#0D87BF"
         },
         "mode": "lines+markers",
         "name": "3 process(es) (impro)",
         "showlegend": false,
         "type": "scatter",
         "x": [
          "0.47",
          "0.97",
          "1.35",
          "1.77",
          "2.12",
          "2.44"
         ],
         "xaxis": "x2",
         "y": [
          1151,
          829,
          729,
          634,
          588,
          572
         ],
         "yaxis": "y2"
        },
        {
         "marker": {
          "color": "#0D87BF"
         },
         "mode": "lines",
         "name": "3 process(es) (all)",
         "opacity": 0.5,
         "showlegend": false,
         "type": "scatter",
         "x": [
          "0.00",
          "0.47",
          "0.97",
          "1.35",
          "1.77",
          "2.12",
          "2.44",
          "2.72",
          "3.11",
          "3.47",
          "3.78",
          "4.10",
          "4.41",
          "4.82",
          "5.19",
          "5.46",
          "5.73",
          "5.99",
          "6.27",
          "6.56",
          "6.86",
          "7.11",
          "7.37",
          "7.63",
          "7.90",
          "8.17",
          "8.44",
          "8.72",
          "8.99",
          "9.27",
          "9.54",
          "9.80"
         ],
         "xaxis": "x2",
         "y": [
          1775,
          1151,
          829,
          729,
          634,
          588,
          572,
          592,
          592,
          592,
          592,
          592,
          592,
          592,
          592,
          592,
          592,
          592,
          592,
          592,
          592,
          592,
          592,
          592,
          592,
          592,
          592,
          592,
          592,
          592,
          592,
          592
         ],
         "yaxis": "y2"
        },
        {
         "marker": {
          "color": "#0E3344"
         },
         "mode": "lines+markers",
         "name": "6 process(es) (impro)",
         "showlegend": false,
         "type": "scatter",
         "x": [
          "0.74",
          "1.51",
          "2.19",
          "2.83",
          "3.36",
          "4.30"
         ],
         "xaxis": "x2",
         "y": [
          1151,
          829,
          729,
          634,
          583,
          572
         ],
         "yaxis": "y2"
        },
        {
         "marker": {
          "color": "#0E3344"
         },
         "mode": "lines",
         "name": "6 process(es) (all)",
         "opacity": 0.5,
         "showlegend": false,
         "type": "scatter",
         "x": [
          "0.00",
          "0.74",
          "1.51",
          "2.19",
          "2.83",
          "3.36",
          "3.83",
          "4.30",
          "4.79",
          "5.25",
          "5.73",
          "6.15",
          "6.66",
          "7.19",
          "7.68",
          "8.16",
          "8.66",
          "9.17",
          "9.66"
         ],
         "xaxis": "x2",
         "y": [
          1775,
          1151,
          829,
          729,
          634,
          583,
          588,
          572,
          592,
          592,
          592,
          592,
          592,
          592,
          592,
          592,
          592,
          592,
          592
         ],
         "yaxis": "y2"
        },
        {
         "marker": {
          "color": "#0D87BF",
          "line": {
           "color": "#0D87BF",
           "width": 2
          },
          "size": 14
         },
         "mode": "markers+text",
         "name": "problem 2 best",
         "opacity": 0.7,
         "showlegend": false,
         "text": [
          "(2.44, 572)"
         ],
         "textposition": "bottom center",
         "type": "scatter",
         "x": [
          2.4383835792541504
         ],
         "xaxis": "x2",
         "y": [
          572
         ],
         "yaxis": "y2"
        },
        {
         "marker": {
          "color": "#0E3344",
          "line": {
           "color": "#0E3344",
           "width": 2
          },
          "size": 14
         },
         "mode": "markers+text",
         "name": "problem 2 best",
         "opacity": 0.7,
         "showlegend": false,
         "text": [
          "(4.30, 572)"
         ],
         "textposition": "bottom center",
         "type": "scatter",
         "x": [
          4.29970121383667
         ],
         "xaxis": "x2",
         "y": [
          572
         ],
         "yaxis": "y2"
        },
        {
         "marker": {
          "color": "#62BDE7"
         },
         "mode": "lines+markers",
         "name": "1 process(es) (impro)",
         "showlegend": false,
         "type": "scatter",
         "x": [
          "0.52",
          "1.01",
          "1.40"
         ],
         "xaxis": "x3",
         "y": [
          1318,
          924,
          742
         ],
         "yaxis": "y3"
        },
        {
         "marker": {
          "color": "#62BDE7"
         },
         "mode": "lines",
         "name": "1 process(es) (all)",
         "opacity": 0.5,
         "showlegend": false,
         "type": "scatter",
         "x": [
          "0.00",
          "0.52",
          "1.01",
          "1.40",
          "1.71",
          "2.04",
          "2.34",
          "2.65",
          "2.95",
          "3.24",
          "3.51",
          "3.78",
          "4.05",
          "4.32",
          "4.57",
          "4.85",
          "5.10",
          "5.36",
          "5.62",
          "5.87",
          "6.19",
          "6.49",
          "6.74",
          "6.99",
          "7.25",
          "7.51",
          "7.78",
          "8.06",
          "8.33",
          "8.58",
          "8.87",
          "9.13",
          "9.38",
          "9.63",
          "9.89"
         ],
         "xaxis": "x3",
         "y": [
          1862,
          1318,
          924,
          742,
          783,
          783,
          796,
          783,
          796,
          796,
          791,
          763,
          783,
          796,
          783,
          763,
          783,
          783,
          791,
          796,
          763,
          761,
          796,
          791,
          791,
          761,
          761,
          791,
          783,
          783,
          783,
          783,
          783,
          783,
          796
         ],
         "yaxis": "y3"
        },
        {
         "marker": {
          "color": "#0D87BF"
         },
         "mode": "lines+markers",
         "name": "3 process(es) (impro)",
         "showlegend": false,
         "type": "scatter",
         "x": [
          "0.49",
          "0.98",
          "1.43",
          "1.86",
          "2.17",
          "2.50",
          "2.76",
          "3.06",
          "3.38"
         ],
         "xaxis": "x3",
         "y": [
          1318,
          921,
          739,
          733,
          686,
          634,
          591,
          507,
          486
         ],
         "yaxis": "y3"
        },
        {
         "marker": {
          "color": "#0D87BF"
         },
         "mode": "lines",
         "name": "3 process(es) (all)",
         "opacity": 0.5,
         "showlegend": false,
         "type": "scatter",
         "x": [
          "0.00",
          "0.49",
          "0.98",
          "1.43",
          "1.86",
          "2.17",
          "2.50",
          "2.76",
          "3.06",
          "3.38",
          "3.74",
          "4.09",
          "4.40",
          "4.70",
          "5.04",
          "5.31",
          "5.58",
          "5.86",
          "6.13",
          "6.41",
          "6.70",
          "7.03",
          "7.32",
          "7.61",
          "7.92",
          "8.22",
          "8.54",
          "8.85",
          "9.16",
          "9.45",
          "9.79"
         ],
         "xaxis": "x3",
         "y": [
          1862,
          1318,
          921,
          739,
          733,
          686,
          634,
          591,
          507,
          486,
          486,
          486,
          486,
          486,
          486,
          486,
          486,
          486,
          486,
          486,
          486,
          486,
          486,
          486,
          486,
          486,
          486,
          486,
          486,
          486,
          486
         ],
         "yaxis": "y3"
        },
        {
         "marker": {
          "color": "#0E3344"
         },
         "mode": "lines+markers",
         "name": "6 process(es) (impro)",
         "showlegend": false,
         "type": "scatter",
         "x": [
          "0.73",
          "1.38",
          "1.96",
          "2.48",
          "2.97",
          "3.45",
          "3.79",
          "4.25",
          "4.67"
         ],
         "xaxis": "x3",
         "y": [
          1318,
          921,
          739,
          733,
          686,
          634,
          591,
          507,
          486
         ],
         "yaxis": "y3"
        },
        {
         "marker": {
          "color": "#0E3344"
         },
         "mode": "lines",
         "name": "6 process(es) (all)",
         "opacity": 0.5,
         "showlegend": false,
         "type": "scatter",
         "x": [
          "0.00",
          "0.73",
          "1.38",
          "1.96",
          "2.48",
          "2.97",
          "3.45",
          "3.79",
          "4.25",
          "4.67",
          "5.11",
          "5.53",
          "5.98",
          "6.39",
          "6.86",
          "7.29",
          "7.75",
          "8.16",
          "8.67",
          "9.10",
          "9.50",
          "9.92"
         ],
         "xaxis": "x3",
         "y": [
          1862,
          1318,
          921,
          739,
          733,
          686,
          634,
          591,
          507,
          486,
          486,
          486,
          486,
          486,
          486,
          486,
          486,
          486,
          486,
          486,
          486,
          486
         ],
         "yaxis": "y3"
        },
        {
         "marker": {
          "color": "#0D87BF",
          "line": {
           "color": "#0D87BF",
           "width": 2
          },
          "size": 14
         },
         "mode": "markers+text",
         "name": "problem 3 best",
         "opacity": 0.7,
         "showlegend": false,
         "text": [
          "(3.38, 486)"
         ],
         "textposition": "bottom center",
         "type": "scatter",
         "x": [
          3.3776862621307373
         ],
         "xaxis": "x3",
         "y": [
          486
         ],
         "yaxis": "y3"
        },
        {
         "marker": {
          "color": "#0E3344",
          "line": {
           "color": "#0E3344",
           "width": 2
          },
          "size": 14
         },
         "mode": "markers+text",
         "name": "problem 3 best",
         "opacity": 0.7,
         "showlegend": false,
         "text": [
          "(4.67, 486)"
         ],
         "textposition": "bottom center",
         "type": "scatter",
         "x": [
          4.667078495025635
         ],
         "xaxis": "x3",
         "y": [
          486
         ],
         "yaxis": "y3"
        }
       ],
       "layout": {
        "annotations": [
         {
          "font": {
           "size": 16
          },
          "showarrow": false,
          "text": "Problem 1",
          "x": 0.5,
          "xanchor": "center",
          "xref": "paper",
          "y": 1,
          "yanchor": "bottom",
          "yref": "paper"
         },
         {
          "font": {
           "size": 16
          },
          "showarrow": false,
          "text": "Problem 2",
          "x": 0.5,
          "xanchor": "center",
          "xref": "paper",
          "y": 0.6416666666666666,
          "yanchor": "bottom",
          "yref": "paper"
         },
         {
          "font": {
           "size": 16
          },
          "showarrow": false,
          "text": "Problem 3",
          "x": 0.5,
          "xanchor": "center",
          "xref": "paper",
          "y": 0.2833333333333333,
          "yanchor": "bottom",
          "yref": "paper"
         },
         {
          "font": {
           "size": 16
          },
          "showarrow": false,
          "text": "Time(s)",
          "x": 0.5,
          "xanchor": "center",
          "xref": "paper",
          "y": 0,
          "yanchor": "top",
          "yref": "paper",
          "yshift": -30
         },
         {
          "font": {
           "size": 16
          },
          "showarrow": false,
          "text": "Objective",
          "textangle": -90,
          "x": 0,
          "xanchor": "right",
          "xref": "paper",
          "xshift": -40,
          "y": 0.5,
          "yanchor": "middle",
          "yref": "paper"
         }
        ],
        "height": 1000,
        "template": {
         "data": {
          "bar": [
           {
            "error_x": {
             "color": "#2a3f5f"
            },
            "error_y": {
             "color": "#2a3f5f"
            },
            "marker": {
             "line": {
              "color": "#E5ECF6",
              "width": 0.5
             }
            },
            "type": "bar"
           }
          ],
          "barpolar": [
           {
            "marker": {
             "line": {
              "color": "#E5ECF6",
              "width": 0.5
             }
            },
            "type": "barpolar"
           }
          ],
          "carpet": [
           {
            "aaxis": {
             "endlinecolor": "#2a3f5f",
             "gridcolor": "white",
             "linecolor": "white",
             "minorgridcolor": "white",
             "startlinecolor": "#2a3f5f"
            },
            "baxis": {
             "endlinecolor": "#2a3f5f",
             "gridcolor": "white",
             "linecolor": "white",
             "minorgridcolor": "white",
             "startlinecolor": "#2a3f5f"
            },
            "type": "carpet"
           }
          ],
          "choropleth": [
           {
            "colorbar": {
             "outlinewidth": 0,
             "ticks": ""
            },
            "type": "choropleth"
           }
          ],
          "contour": [
           {
            "colorbar": {
             "outlinewidth": 0,
             "ticks": ""
            },
            "colorscale": [
             [
              0,
              "#0d0887"
             ],
             [
              0.1111111111111111,
              "#46039f"
             ],
             [
              0.2222222222222222,
              "#7201a8"
             ],
             [
              0.3333333333333333,
              "#9c179e"
             ],
             [
              0.4444444444444444,
              "#bd3786"
             ],
             [
              0.5555555555555556,
              "#d8576b"
             ],
             [
              0.6666666666666666,
              "#ed7953"
             ],
             [
              0.7777777777777778,
              "#fb9f3a"
             ],
             [
              0.8888888888888888,
              "#fdca26"
             ],
             [
              1,
              "#f0f921"
             ]
            ],
            "type": "contour"
           }
          ],
          "contourcarpet": [
           {
            "colorbar": {
             "outlinewidth": 0,
             "ticks": ""
            },
            "type": "contourcarpet"
           }
          ],
          "heatmap": [
           {
            "colorbar": {
             "outlinewidth": 0,
             "ticks": ""
            },
            "colorscale": [
             [
              0,
              "#0d0887"
             ],
             [
              0.1111111111111111,
              "#46039f"
             ],
             [
              0.2222222222222222,
              "#7201a8"
             ],
             [
              0.3333333333333333,
              "#9c179e"
             ],
             [
              0.4444444444444444,
              "#bd3786"
             ],
             [
              0.5555555555555556,
              "#d8576b"
             ],
             [
              0.6666666666666666,
              "#ed7953"
             ],
             [
              0.7777777777777778,
              "#fb9f3a"
             ],
             [
              0.8888888888888888,
              "#fdca26"
             ],
             [
              1,
              "#f0f921"
             ]
            ],
            "type": "heatmap"
           }
          ],
          "heatmapgl": [
           {
            "colorbar": {
             "outlinewidth": 0,
             "ticks": ""
            },
            "colorscale": [
             [
              0,
              "#0d0887"
             ],
             [
              0.1111111111111111,
              "#46039f"
             ],
             [
              0.2222222222222222,
              "#7201a8"
             ],
             [
              0.3333333333333333,
              "#9c179e"
             ],
             [
              0.4444444444444444,
              "#bd3786"
             ],
             [
              0.5555555555555556,
              "#d8576b"
             ],
             [
              0.6666666666666666,
              "#ed7953"
             ],
             [
              0.7777777777777778,
              "#fb9f3a"
             ],
             [
              0.8888888888888888,
              "#fdca26"
             ],
             [
              1,
              "#f0f921"
             ]
            ],
            "type": "heatmapgl"
           }
          ],
          "histogram": [
           {
            "marker": {
             "colorbar": {
              "outlinewidth": 0,
              "ticks": ""
             }
            },
            "type": "histogram"
           }
          ],
          "histogram2d": [
           {
            "colorbar": {
             "outlinewidth": 0,
             "ticks": ""
            },
            "colorscale": [
             [
              0,
              "#0d0887"
             ],
             [
              0.1111111111111111,
              "#46039f"
             ],
             [
              0.2222222222222222,
              "#7201a8"
             ],
             [
              0.3333333333333333,
              "#9c179e"
             ],
             [
              0.4444444444444444,
              "#bd3786"
             ],
             [
              0.5555555555555556,
              "#d8576b"
             ],
             [
              0.6666666666666666,
              "#ed7953"
             ],
             [
              0.7777777777777778,
              "#fb9f3a"
             ],
             [
              0.8888888888888888,
              "#fdca26"
             ],
             [
              1,
              "#f0f921"
             ]
            ],
            "type": "histogram2d"
           }
          ],
          "histogram2dcontour": [
           {
            "colorbar": {
             "outlinewidth": 0,
             "ticks": ""
            },
            "colorscale": [
             [
              0,
              "#0d0887"
             ],
             [
              0.1111111111111111,
              "#46039f"
             ],
             [
              0.2222222222222222,
              "#7201a8"
             ],
             [
              0.3333333333333333,
              "#9c179e"
             ],
             [
              0.4444444444444444,
              "#bd3786"
             ],
             [
              0.5555555555555556,
              "#d8576b"
             ],
             [
              0.6666666666666666,
              "#ed7953"
             ],
             [
              0.7777777777777778,
              "#fb9f3a"
             ],
             [
              0.8888888888888888,
              "#fdca26"
             ],
             [
              1,
              "#f0f921"
             ]
            ],
            "type": "histogram2dcontour"
           }
          ],
          "mesh3d": [
           {
            "colorbar": {
             "outlinewidth": 0,
             "ticks": ""
            },
            "type": "mesh3d"
           }
          ],
          "parcoords": [
           {
            "line": {
             "colorbar": {
              "outlinewidth": 0,
              "ticks": ""
             }
            },
            "type": "parcoords"
           }
          ],
          "pie": [
           {
            "automargin": true,
            "type": "pie"
           }
          ],
          "scatter": [
           {
            "marker": {
             "colorbar": {
              "outlinewidth": 0,
              "ticks": ""
             }
            },
            "type": "scatter"
           }
          ],
          "scatter3d": [
           {
            "line": {
             "colorbar": {
              "outlinewidth": 0,
              "ticks": ""
             }
            },
            "marker": {
             "colorbar": {
              "outlinewidth": 0,
              "ticks": ""
             }
            },
            "type": "scatter3d"
           }
          ],
          "scattercarpet": [
           {
            "marker": {
             "colorbar": {
              "outlinewidth": 0,
              "ticks": ""
             }
            },
            "type": "scattercarpet"
           }
          ],
          "scattergeo": [
           {
            "marker": {
             "colorbar": {
              "outlinewidth": 0,
              "ticks": ""
             }
            },
            "type": "scattergeo"
           }
          ],
          "scattergl": [
           {
            "marker": {
             "colorbar": {
              "outlinewidth": 0,
              "ticks": ""
             }
            },
            "type": "scattergl"
           }
          ],
          "scattermapbox": [
           {
            "marker": {
             "colorbar": {
              "outlinewidth": 0,
              "ticks": ""
             }
            },
            "type": "scattermapbox"
           }
          ],
          "scatterpolar": [
           {
            "marker": {
             "colorbar": {
              "outlinewidth": 0,
              "ticks": ""
             }
            },
            "type": "scatterpolar"
           }
          ],
          "scatterpolargl": [
           {
            "marker": {
             "colorbar": {
              "outlinewidth": 0,
              "ticks": ""
             }
            },
            "type": "scatterpolargl"
           }
          ],
          "scatterternary": [
           {
            "marker": {
             "colorbar": {
              "outlinewidth": 0,
              "ticks": ""
             }
            },
            "type": "scatterternary"
           }
          ],
          "surface": [
           {
            "colorbar": {
             "outlinewidth": 0,
             "ticks": ""
            },
            "colorscale": [
             [
              0,
              "#0d0887"
             ],
             [
              0.1111111111111111,
              "#46039f"
             ],
             [
              0.2222222222222222,
              "#7201a8"
             ],
             [
              0.3333333333333333,
              "#9c179e"
             ],
             [
              0.4444444444444444,
              "#bd3786"
             ],
             [
              0.5555555555555556,
              "#d8576b"
             ],
             [
              0.6666666666666666,
              "#ed7953"
             ],
             [
              0.7777777777777778,
              "#fb9f3a"
             ],
             [
              0.8888888888888888,
              "#fdca26"
             ],
             [
              1,
              "#f0f921"
             ]
            ],
            "type": "surface"
           }
          ],
          "table": [
           {
            "cells": {
             "fill": {
              "color": "#EBF0F8"
             },
             "line": {
              "color": "white"
             }
            },
            "header": {
             "fill": {
              "color": "#C8D4E3"
             },
             "line": {
              "color": "white"
             }
            },
            "type": "table"
           }
          ]
         },
         "layout": {
          "annotationdefaults": {
           "arrowcolor": "#2a3f5f",
           "arrowhead": 0,
           "arrowwidth": 1
          },
          "coloraxis": {
           "colorbar": {
            "outlinewidth": 0,
            "ticks": ""
           }
          },
          "colorscale": {
           "diverging": [
            [
             0,
             "#8e0152"
            ],
            [
             0.1,
             "#c51b7d"
            ],
            [
             0.2,
             "#de77ae"
            ],
            [
             0.3,
             "#f1b6da"
            ],
            [
             0.4,
             "#fde0ef"
            ],
            [
             0.5,
             "#f7f7f7"
            ],
            [
             0.6,
             "#e6f5d0"
            ],
            [
             0.7,
             "#b8e186"
            ],
            [
             0.8,
             "#7fbc41"
            ],
            [
             0.9,
             "#4d9221"
            ],
            [
             1,
             "#276419"
            ]
           ],
           "sequential": [
            [
             0,
             "#0d0887"
            ],
            [
             0.1111111111111111,
             "#46039f"
            ],
            [
             0.2222222222222222,
             "#7201a8"
            ],
            [
             0.3333333333333333,
             "#9c179e"
            ],
            [
             0.4444444444444444,
             "#bd3786"
            ],
            [
             0.5555555555555556,
             "#d8576b"
            ],
            [
             0.6666666666666666,
             "#ed7953"
            ],
            [
             0.7777777777777778,
             "#fb9f3a"
            ],
            [
             0.8888888888888888,
             "#fdca26"
            ],
            [
             1,
             "#f0f921"
            ]
           ],
           "sequentialminus": [
            [
             0,
             "#0d0887"
            ],
            [
             0.1111111111111111,
             "#46039f"
            ],
            [
             0.2222222222222222,
             "#7201a8"
            ],
            [
             0.3333333333333333,
             "#9c179e"
            ],
            [
             0.4444444444444444,
             "#bd3786"
            ],
            [
             0.5555555555555556,
             "#d8576b"
            ],
            [
             0.6666666666666666,
             "#ed7953"
            ],
            [
             0.7777777777777778,
             "#fb9f3a"
            ],
            [
             0.8888888888888888,
             "#fdca26"
            ],
            [
             1,
             "#f0f921"
            ]
           ]
          },
          "colorway": [
           "#636efa",
           "#EF553B",
           "#00cc96",
           "#ab63fa",
           "#FFA15A",
           "#19d3f3",
           "#FF6692",
           "#B6E880",
           "#FF97FF",
           "#FECB52"
          ],
          "font": {
           "color": "#2a3f5f"
          },
          "geo": {
           "bgcolor": "white",
           "lakecolor": "white",
           "landcolor": "#E5ECF6",
           "showlakes": true,
           "showland": true,
           "subunitcolor": "white"
          },
          "hoverlabel": {
           "align": "left"
          },
          "hovermode": "closest",
          "mapbox": {
           "style": "light"
          },
          "paper_bgcolor": "white",
          "plot_bgcolor": "#E5ECF6",
          "polar": {
           "angularaxis": {
            "gridcolor": "white",
            "linecolor": "white",
            "ticks": ""
           },
           "bgcolor": "#E5ECF6",
           "radialaxis": {
            "gridcolor": "white",
            "linecolor": "white",
            "ticks": ""
           }
          },
          "scene": {
           "xaxis": {
            "backgroundcolor": "#E5ECF6",
            "gridcolor": "white",
            "gridwidth": 2,
            "linecolor": "white",
            "showbackground": true,
            "ticks": "",
            "zerolinecolor": "white"
           },
           "yaxis": {
            "backgroundcolor": "#E5ECF6",
            "gridcolor": "white",
            "gridwidth": 2,
            "linecolor": "white",
            "showbackground": true,
            "ticks": "",
            "zerolinecolor": "white"
           },
           "zaxis": {
            "backgroundcolor": "#E5ECF6",
            "gridcolor": "white",
            "gridwidth": 2,
            "linecolor": "white",
            "showbackground": true,
            "ticks": "",
            "zerolinecolor": "white"
           }
          },
          "shapedefaults": {
           "line": {
            "color": "#2a3f5f"
           }
          },
          "ternary": {
           "aaxis": {
            "gridcolor": "white",
            "linecolor": "white",
            "ticks": ""
           },
           "baxis": {
            "gridcolor": "white",
            "linecolor": "white",
            "ticks": ""
           },
           "bgcolor": "#E5ECF6",
           "caxis": {
            "gridcolor": "white",
            "linecolor": "white",
            "ticks": ""
           }
          },
          "title": {
           "x": 0.05
          },
          "xaxis": {
           "automargin": true,
           "gridcolor": "white",
           "linecolor": "white",
           "ticks": "",
           "title": {
            "standoff": 15
           },
           "zerolinecolor": "white",
           "zerolinewidth": 2
          },
          "yaxis": {
           "automargin": true,
           "gridcolor": "white",
           "linecolor": "white",
           "ticks": "",
           "title": {
            "standoff": 15
           },
           "zerolinecolor": "white",
           "zerolinewidth": 2
          }
         }
        },
        "title": {
         "text": "Objective Value for Fast Convergence PLNS"
        },
        "width": 800,
        "xaxis": {
         "anchor": "y",
         "domain": [
          0,
          1
         ],
         "matches": "x3",
         "nticks": 11,
         "showticklabels": false
        },
        "xaxis2": {
         "anchor": "y2",
         "domain": [
          0,
          1
         ],
         "matches": "x3",
         "nticks": 11,
         "showticklabels": false
        },
        "xaxis3": {
         "anchor": "y3",
         "domain": [
          0,
          1
         ],
         "nticks": 11
        },
        "yaxis": {
         "anchor": "x",
         "domain": [
          0.7166666666666667,
          1
         ]
        },
        "yaxis2": {
         "anchor": "x2",
         "domain": [
          0.35833333333333334,
          0.6416666666666666
         ]
        },
        "yaxis3": {
         "anchor": "x3",
         "domain": [
          0,
          0.2833333333333333
         ]
        }
       }
      }
     },
     "metadata": {},
     "output_type": "display_data"
    }
   ],
   "source": [
    "# Define colors for processes,more processes darker shade\n",
    "\n",
    "# proc_colors = [\"#BCD2E8\", \"#91BAD6\", \"#73A5C6\", \"#528AAE\", \"#2E5984\", \"#1E3F66\"]\n",
    "\n",
    "# light = \"#64a0c8\"\n",
    "# normal = \"#0065bd\"\n",
    "# dark = \"#005293\"\n",
    "\n",
    "light = \"#62BDE7\"\n",
    "normal = \"#0D87BF\"\n",
    "dark = \"#0E3344\"\n",
    "\n",
    "proc_colors = {\n",
    "    1: light,\n",
    "    3: normal,\n",
    "    6: dark,\n",
    "}\n",
    "\n",
    "fig = make_subplots(\n",
    "    rows=3,\n",
    "    cols=1,\n",
    "    y_title=\"Objective\",\n",
    "    x_title=\"Time(s)\",\n",
    "    shared_yaxes=True,\n",
    "    shared_xaxes=True,\n",
    "    subplot_titles=(\"Problem 1\",\"Problem 2\", \"Problem 3\"),\n",
    "    vertical_spacing=0.075,\n",
    ")\n",
    "\n",
    "show_all = True\n",
    "\n",
    "for prob_id in rel_problem_ids:\n",
    "    r = prob_id + 1\n",
    "    problem_solvers = lns_conv_solvers[prob_id]\n",
    "\n",
    "    best = None\n",
    "    best_solvers = []\n",
    "    for solver in problem_solvers:\n",
    "        nb_process = solver.nb_processes\n",
    "        stats = get_solver_stats(solver)\n",
    "\n",
    "        if not best or solver.best_cached_solution.objective < best.objective:\n",
    "            best = solver.best_cached_solution\n",
    "            best_solvers = [solver]\n",
    "        elif solver.best_cached_solution.objective == best.objective:\n",
    "            best_solvers.append(solver)\n",
    "\n",
    "        # improving solutions\n",
    "        fig.add_trace(go.Scatter(\n",
    "            x=stats[\"improving_times\"],\n",
    "            y=stats[\"improving_objectives\"],\n",
    "            name=f\"{nb_process} process(es) (impro)\",\n",
    "            marker_color=proc_colors[nb_process],\n",
    "            mode=\"lines+markers\",\n",
    "        ),\n",
    "                      row=r,\n",
    "                      col=1)\n",
    "\n",
    "        if show_all:\n",
    "            # all solutions\n",
    "            fig.add_trace(go.Scatter(\n",
    "                x=stats[\"times_found\"],\n",
    "                y=stats[\"objectives\"],\n",
    "                name=f\"{nb_process} process(es) (all)\",\n",
    "                opacity=0.5,\n",
    "                marker_color=proc_colors[nb_process],\n",
    "                mode=\"lines\",\n",
    "            ),\n",
    "                          row=r,\n",
    "                          col=1)\n",
    "\n",
    "        # fig.update_yaxes(title_text=\"Objective\", row=r, col=1)\n",
    "        fig.update_xaxes(\n",
    "            # title_text=\"Time (s)\",\n",
    "                         row=r,\n",
    "                         col=1,\n",
    "                         nticks=time_limit + 1)\n",
    "\n",
    "    # highlight best solutions\n",
    "    for solver in best_solvers:\n",
    "        best_solver = solver\n",
    "        best = solver.best_cached_solution\n",
    "        fig.add_trace(\n",
    "            go.Scatter(\n",
    "                x=[best.time_to_find],\n",
    "                y=[best.objective],\n",
    "                mode=\"markers+text\",\n",
    "                text=[f\"({'{:.2f}'.format(best.time_to_find)}, {best.objective})\"],\n",
    "                textposition=\"bottom center\",\n",
    "                name=f\"problem {prob_id + 1} best\",\n",
    "                opacity=0.7,\n",
    "                marker=dict(\n",
    "                    size=14,\n",
    "                    line=dict(width=2,\n",
    "                              color=proc_colors[best_solver.nb_processes]),\n",
    "                    color=proc_colors[best_solver.nb_processes],\n",
    "                ),\n",
    "                showlegend=False,\n",
    "            ),\n",
    "            row=r,\n",
    "            col=1,\n",
    "        )\n",
    "    #     fig.add_shape(type=\"circle\",\n",
    "    #     xref=\"x\", yref=\"y\",\n",
    "    #     x0=best.time_to_find, y0=best.objective,\n",
    "    #     line_color=\"LightSeaGreen\",\n",
    "    # )\n",
    "\n",
    "# for prob_id in rel_problem_ids:\n",
    "#     r = prob_id + 1\n",
    "#     problem_solvers = lns_conv_solvers[prob_id]\n",
    "\n",
    "#     for solver in problem_solvers:\n",
    "#         nb_process = solver.nb_processes\n",
    "#         stats = get_solver_stats(solver)\n",
    "\n",
    "#         # improving solutions\n",
    "#         fig.add_trace(go.Scatter(x=stats[\"improving_iterations\"],\n",
    "#                         y=stats[\"improving_objectives\"],\n",
    "#                         name=f\"{nb_process} process(es)(impro)\",\n",
    "#                         marker_color=proc_colors[nb_process],\n",
    "#                         mode=\"lines+markers\",\n",
    "#                         ),\n",
    "#             row=r,\n",
    "#             col=2)\n",
    "\n",
    "#         if show_all:\n",
    "#             # all solutions\n",
    "#             fig.add_trace(go.Scatter(x=stats[\"iterations\"],\n",
    "#                                 y=stats[\"objectives\"],\n",
    "#                                 name=f\"{nb_process} process(es)(all)\",\n",
    "#                                 opacity=0.5,\n",
    "#                                 marker_color=proc_colors[nb_process],\n",
    "#                                 mode=\"lines\",\n",
    "#                                 ),\n",
    "#                     row=r,\n",
    "#                     col=2)\n",
    "\n",
    "#         fig.update_yaxes(title_text=\"Objective\", row=r, col=2)\n",
    "#         fig.update_xaxes(title_text=\"Iteration Number\", row=r, col=2)\n",
    "\n",
    "names = set()\n",
    "fig.for_each_trace(lambda trace: trace.update(showlegend=False)\n",
    "                   if (trace.name in names) else names.add(trace.name))\n",
    "\n",
    "# fig.update_layout(height=1000, width=1200, title_text=\"Objective Value as the LNS Progresses\")\n",
    "fig.update_layout(height=1000,\n",
    "                  width=800,\n",
    "                  title_text=\"Objective Value for Fast Convergence PLNS\")\n",
    "# fig.update_layout(title_text=\"Objective Value as the LNS Progresses\")"
   ]
  }
 ],
 "metadata": {
  "interpreter": {
   "hash": "31f2aee4e71d21fbe5cf8b01ff0e069b9275f58929596ceb00d14d90e3e16cd6"
  },
  "kernelspec": {
   "display_name": "Python 3.8.10 64-bit",
   "language": "python",
   "name": "python3"
  },
  "language_info": {
   "codemirror_mode": {
    "name": "ipython",
    "version": 3
   },
   "file_extension": ".py",
   "mimetype": "text/x-python",
   "name": "python",
   "nbconvert_exporter": "python",
   "pygments_lexer": "ipython3",
   "version": "3.8.10"
  },
  "orig_nbformat": 4
 },
 "nbformat": 4,
 "nbformat_minor": 2
}
