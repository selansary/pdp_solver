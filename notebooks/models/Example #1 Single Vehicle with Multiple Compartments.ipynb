{
 "cells": [
  {
   "cell_type": "markdown",
   "metadata": {},
   "source": [
    "## Problem Statement \n",
    "\n",
    "The assignment of products to vehicle compartments in order to be transported from sources to depot. <br>\n",
    "Note: Not a PDP yet.\n",
    "\n",
    "#### Data \n",
    "\n",
    "- $G = (V, A)$\n",
    "- $V = \\{0, 1, .., n\\}$ where we have $n$ customers and $0$ is the *depot*.\n",
    "- Cost / Distance Matrix $C$, where $c_{i, \\; j}$ is the cost of arc $i$ --> $j$.\n",
    "- $P = \\{1,..\\}$ a set of products.\n",
    "- $M = \\{1,..\\}$ the set of Vehicle Compartments.\n",
    "- $CompartmentCapacities = \\{q_{m} |\\; m \\; in \\; M\\}$\n",
    "- $CompartmentCapabilities$ Matrix $MxP$\n",
    "    - $a_{m,\\; p} = 1$ if product $p$ can be assigned to compartment $m$\n",
    "    - $a_{m,\\; p} = 0$ otherwise\n",
    "- Demands Matrix $D$, where $d_{i, \\; p}$ is the demand of customer $i$ for product $p$.\n",
    "\n",
    "#### Decision Variables\n",
    "\n",
    "- $x_{i,\\; j}$\n",
    "    - $x_{i,\\; j} = 1$ if the vehicle is travelling from $i$ to $j$\n",
    "    - $x_{i,\\; j} = 0$ otherwise\n",
    "- $y_{p,\\; m}$\n",
    "    - $y_{p,\\; m} = 1$ if product $p$ is assigned to compartment $m$\n",
    "    - $y_{p,\\; m} = 0$ otherwise\n",
    "- $u_{i,\\; p, \\; m}$ which represents the share of demand $d_{i, \\; p}$ that is assigned to compartment $m$.\n",
    "    - Domain $ : \\{0, 1, .., d_{i, \\; p}\\}$ \n",
    "\n",
    "#### Constraints\n",
    "- Every customer (vertex) is visited once.\n",
    "    <br>\n",
    "    <center> $\\sum_{j \\in V} x_{i, \\; j} = 1$    $\\; \\forall i \\in V$ \\ $\\{0\\}$ </center>\n",
    "    <center> $\\sum_{j \\in V} x_{j, \\; i} = 1$    $\\; \\forall i \\in V$ \\ $\\{0\\}$ </center>\n",
    "- Subtour elimination constraint (necessary?)\n",
    "    <br>\n",
    "    <center> $\\sum_{i \\in S} \\sum_{j \\in S} x_{i, \\; j} \\leq |S|  - 1$ $S \\subseteq V$ \\ $\\{0\\},  |S| \\geq 2$</center>\n",
    "   \n",
    "- Capacity-Demand Constraints \n",
    "     - The share of a compartment of all demands is restricted by the compartment capacity.\n",
    "    <br>\n",
    "         <center> $\\sum_{i \\in V} \\sum_{p \\in P} u_{i, \\; p, \\; m} \\leq q_{m} \\; \\;$  $\\forall m \\in M$</center>\n",
    "    <br> \n",
    "     - The demand of every customer is fulfilled by the vehicle.\n",
    "     <br>\n",
    "         <center> $\\sum_{m \\in M} u_{i, \\; p, \\; m} = d_{i, \\; p}$ $\\; \\; \\forall i \\in V$ \\ $\\{0\\}, \\; \\forall p \\in P$ </center>\n",
    "     <br>\n",
    "- Compartment-Product Constraints\n",
    "     - A compartment must be assigned to **at most one** product.\n",
    "     <br> \n",
    "         <center> $\\sum_{p \\in P} y_{p, \\; m} \\leq 1 \\; \\; \\forall m \\in M$ </center><br>\n",
    "     - A product must be assigned to **at least one** compartment.\n",
    "     <br> \n",
    "         <center> $\\sum_{m \\in M} y_{p, \\; m} \\geq 1 \\; \\; \\forall p \\in P$ </center><br>\n",
    "      <br>\n",
    "     - A compartment can be assigned to a product only if it's capable to store this product.\n",
    "     <br> \n",
    "         <center>$y_{p, \\; m} \\leq  a_{m, \\; p} \\; \\; \\forall p \\in P, \\; \\forall m \\in M$ </center>\n",
    "     <br>\n",
    "     - The demand assignment is restricted by the assignment of the compartments to products.\n",
    "     <br>\n",
    "         <center>$u_{i, \\; p, \\; m} \\leq  y_{p, \\; m} * d_{i, \\; p} \\; \\; \\forall i \\in V, \\; \\forall p \\in P, \\; \\forall m \\in M$ </center>\n",
    "\n",
    "\n",
    "#### Objectice Function\n",
    "- Minimize the route cost.\n",
    " <br>\n",
    "     <center>$Min \\sum_{i \\in V} \\sum_{j \\in V} c_{i, \\; j} * x_{i, \\; j} $</center>\n",
    "\n"
   ]
  },
  {
   "cell_type": "code",
   "execution_count": 18,
   "metadata": {},
   "outputs": [],
   "source": [
    "from gurobipy import * \n",
    "import itertools"
   ]
  },
  {
   "cell_type": "code",
   "execution_count": 19,
   "metadata": {},
   "outputs": [],
   "source": [
    "import random \n",
    "random.seed(0)"
   ]
  },
  {
   "cell_type": "markdown",
   "metadata": {},
   "source": [
    "#### Data \n",
    "\n",
    "- $G = (V, A)$\n",
    "- $V = \\{0, 1, .., n\\}$ where we have $n$ customers and $0$ is the *depot*.\n",
    "- Cost / Distance Matrix $C$, where $c_{i, \\; j}$ is the cost of arc $i$ --> $j$.\n",
    "- $P = \\{1,..\\}$ a set of products.\n",
    "- $M = \\{1,..\\}$ the set of Vehicle Compartments.\n",
    "- $CompartmentCapacities = \\{q_{m} |\\; m \\; in \\; M\\}$\n",
    "- $CompartmentCapabilities$ Matrix $MxP$\n",
    "    - $a_{m,\\; p} = 1$ if product $p$ can be assigned to compartment $m$\n",
    "    - $a_{m,\\; p} = 0$ otherwise\n",
    "- Demands Matrix $D$, where $d_{i, \\; p}$ is the demand of customer $i$ for product $p$."
   ]
  },
  {
   "cell_type": "code",
   "execution_count": 20,
   "metadata": {},
   "outputs": [],
   "source": [
    "# Assume we have a depot and nb_customer_locations\n",
    "nb_customer_locations = 5\n",
    "V = [i for i in range(nb_customer_locations + 1)]\n",
    "N = nb_customer_locations + 1\n",
    "\n",
    "# Assume an arbitrary graph\n",
    "# Distance from / to depot is 0\n",
    "random.seed(0)\n",
    "A = [[random.randint(1, 100) if i != 0 and j != 0 else 0 for i in range(N)] for j in range(N)]\n",
    "C = A\n",
    "\n",
    "# Assume 2 product types. A type of 300 length and another of 600.\n",
    "P = [0, 1]\n",
    "\n",
    "# Assume we have 6 compartments in the vehicle, each of depth 800.\n",
    "M = [i for i in range(6)]\n",
    "Capacities = [800 for i in range(6)]\n",
    "\n",
    "# Compartments 0, 1, 2 and 3 can accommodate products of length  300 (product 0).\n",
    "# Compartment 4 and 5 can accommodate products of length 600 (product 1).\n",
    "Capabilities = [\n",
    "    [1, 0],[1, 0],[1, 0], [1, 0],\n",
    "    [0, 1],[0, 1],\n",
    "]\n",
    "\n",
    "D = [\n",
    "    # No demands at the depot\n",
    "    [0, 0],\n",
    "    # Customer 1 demands 1 item of product 1.\n",
    "    [1, 0],\n",
    "    # Customer 2 demands 2 items of product 1.\n",
    "    [2, 0],\n",
    "    # Customer 3 demands 1 item of product 1, 1 item of product 2.\n",
    "    [1, 1],\n",
    "    # Customer 4 demands 1 item of product 2.\n",
    "    [0, 1],\n",
    "    # Customer 5 demands 1 item of product 1, 2 items of product 2.\n",
    "    [1, 2],\n",
    "]\n",
    "\n",
    "# Assume that each item has the depth of 400 and the demand reflects the depth.\n",
    "D = [[d_ip * 400 for d_ip in d_i] for d_i in D]"
   ]
  },
  {
   "cell_type": "code",
   "execution_count": 21,
   "metadata": {},
   "outputs": [
    {
     "name": "stdout",
     "output_type": "stream",
     "text": [
      "Number of customer locations 5\n",
      "The cost matrix \n",
      "[[0, 0, 0, 0, 0, 0], [0, 50, 98, 54, 6, 34], [0, 66, 63, 52, 39, 62], [0, 46, 75, 28, 65, 18], [0, 37, 18, 97, 13, 80], [0, 33, 69, 91, 78, 19]]\n",
      "Customer demands \n",
      "[[0, 0], [400, 0], [800, 0], [400, 400], [0, 400], [400, 800]]\n"
     ]
    }
   ],
   "source": [
    "print(f\"Number of customer locations {nb_customer_locations}\")\n",
    "print(f\"The cost matrix \\n{C}\")\n",
    "print(f\"Customer demands \\n{D}\")"
   ]
  },
  {
   "cell_type": "code",
   "execution_count": 22,
   "metadata": {},
   "outputs": [],
   "source": [
    "# Declare and initialize the model\n",
    "model = Model(\"TSPMC\")"
   ]
  },
  {
   "cell_type": "markdown",
   "metadata": {},
   "source": [
    "#### Decision Variables\n",
    "\n",
    "- $x_{i,\\; j}$\n",
    "    - $x_{i,\\; j} = 1$ if the vehicle is travelling from $i$ to $j$\n",
    "    - $x_{i,\\; j} = 0$ otherwise\n",
    "- $y_{p,\\; m}$\n",
    "    - $y_{p,\\; m} = 1$ if product $p$ is assigned to compartment $m$\n",
    "    - $y_{p,\\; m} = 0$ otherwise\n",
    "- $u_{i,\\; p, \\; m}$ which represents the share of demand $d_{i, \\; p}$ that is assigned to compartment $m$.\n",
    "    - Domain $ : \\{0, 1, .., d_{i, \\; p}\\}$ "
   ]
  },
  {
   "cell_type": "code",
   "execution_count": 23,
   "metadata": {},
   "outputs": [],
   "source": [
    "x = model.addVars(V, V, vtype=GRB.BINARY, name=\"x\")\n",
    "y = model.addVars(P, M, vtype=GRB.BINARY, name=\"y\")\n",
    "u = model.addVars(V, P, M, vtype=GRB.INTEGER, name=\"u\")"
   ]
  },
  {
   "cell_type": "code",
   "execution_count": 24,
   "metadata": {},
   "outputs": [],
   "source": [
    "# Set the bounds of the u vars to the demands\n",
    "for i, p, m in u:\n",
    "    u[i, p, m].setAttr(GRB.Attr.LB, 0)\n",
    "    u[i, p, m].setAttr(GRB.Attr.UB, D[i][p])\n",
    "\n",
    "model.update()"
   ]
  },
  {
   "cell_type": "markdown",
   "metadata": {},
   "source": [
    "### Constraints\n",
    "#### Constraint 1\n",
    "\n",
    "- Every customer (vertex) is visited once.\n",
    "    <br>\n",
    "    <center> $\\sum_{j \\in V} x_{i, \\; j} = 1$    $\\; \\forall i \\in V$ \\ $\\{0\\}$ </center>\n",
    "    <center> $\\sum_{j \\in V} x_{j, \\; i} = 1$    $\\; \\forall i \\in V$ \\ $\\{0\\}$ </center>\n",
    "    <br>\n"
   ]
  },
  {
   "cell_type": "code",
   "execution_count": 25,
   "metadata": {},
   "outputs": [
    {
     "data": {
      "text/plain": [
       "{0: <gurobi.Constr *Awaiting Model Update*>,\n",
       " 1: <gurobi.Constr *Awaiting Model Update*>,\n",
       " 2: <gurobi.Constr *Awaiting Model Update*>,\n",
       " 3: <gurobi.Constr *Awaiting Model Update*>,\n",
       " 4: <gurobi.Constr *Awaiting Model Update*>,\n",
       " 5: <gurobi.Constr *Awaiting Model Update*>}"
      ]
     },
     "execution_count": 25,
     "metadata": {},
     "output_type": "execute_result"
    }
   ],
   "source": [
    "# TODO: check the need to exclude the depot\n",
    "# If the depot is excluded we, can get a solution the that visits the depot more than once.\n",
    "# ?? \\Resolved: yes we need to exclude the depot, otherwise it appears mid tour.\n",
    "\n",
    "# Every vertex is left once\n",
    "model.addConstrs((sum(x[i, j] for j in V) == 1 for i in V), name=\"out_vertex_constr\")\n",
    "\n",
    "# Every vertex is entered once\n",
    "model.addConstrs((sum(x[j, i] for j in V) == 1 for i in V), name=\"in_vertex_constr\")"
   ]
  },
  {
   "cell_type": "code",
   "execution_count": 26,
   "metadata": {},
   "outputs": [
    {
     "data": {
      "text/plain": [
       "[<gurobi.Constr out_vertex_constr[0]>,\n",
       " <gurobi.Constr out_vertex_constr[1]>,\n",
       " <gurobi.Constr out_vertex_constr[2]>,\n",
       " <gurobi.Constr out_vertex_constr[3]>,\n",
       " <gurobi.Constr out_vertex_constr[4]>,\n",
       " <gurobi.Constr out_vertex_constr[5]>,\n",
       " <gurobi.Constr in_vertex_constr[0]>,\n",
       " <gurobi.Constr in_vertex_constr[1]>,\n",
       " <gurobi.Constr in_vertex_constr[2]>,\n",
       " <gurobi.Constr in_vertex_constr[3]>,\n",
       " <gurobi.Constr in_vertex_constr[4]>,\n",
       " <gurobi.Constr in_vertex_constr[5]>]"
      ]
     },
     "execution_count": 26,
     "metadata": {},
     "output_type": "execute_result"
    }
   ],
   "source": [
    "model.update()\n",
    "model.getConstrs()"
   ]
  },
  {
   "cell_type": "markdown",
   "metadata": {},
   "source": [
    "#### Constraint 2\n",
    "\n",
    "- Subtour elimination constraint (necessary?)\n",
    "    \n",
    "    \n",
    "<center> $\\sum_{i \\in S} \\sum_{j \\in S} x_{i, \\; j} \\leq |S|  - 1$ $S \\subseteq V$ \\ $\\{0\\},  |S| \\geq 2$</center>\n",
    "   "
   ]
  },
  {
   "cell_type": "code",
   "execution_count": 27,
   "metadata": {},
   "outputs": [],
   "source": [
    "def get_possible_subtours(nb_vertices):\n",
    "    V_ = [i for i in range(nb_vertices)]\n",
    "    return [list(t) for i in range(2, len(V_)) for t in list(itertools.combinations(V_, i))]\n",
    "\n",
    "possible_sub_tours = get_possible_subtours(len(V))\n",
    "for sub_tour in possible_sub_tours:\n",
    "    model.addConstr(sum(x[i, j] for i in sub_tour for j in sub_tour) <= (len(sub_tour) - 1), name=f\"sub_tour_constr_{sub_tour}\")"
   ]
  },
  {
   "cell_type": "markdown",
   "metadata": {},
   "source": [
    "#### Constraint\n",
    "\n",
    "- Capacity-Demand Constraints \n",
    "\n",
    "     - The share of a compartment of all demands is restricted by the compartment capacity.\n",
    "    <br>\n",
    "         <center> $\\sum_{i \\in V} \\sum_{p \\in P} u_{i, \\; p, \\; m} \\leq q_{m} \\; \\;$  $\\forall m \\in M$</center>\n",
    "    <br> \n",
    "     - The demand of every customer is fulfilled by the vehicle.\n",
    "     <br>\n",
    "         <center> $\\sum_{m \\in M} u_{i, \\; p, \\; m} = d_{i, \\; p}$ $\\; \\; \\forall i \\in V$ \\ $\\{0\\}, \\; \\forall p \\in P$ </center>\n",
    "     <br>"
   ]
  },
  {
   "cell_type": "code",
   "execution_count": 28,
   "metadata": {},
   "outputs": [],
   "source": [
    "cap_constrs = model.addConstrs((sum(u[i, p, m] for i in V for p in P) <= Capacities[m] for m in M), name=\"capacity_constr\")\n",
    "dem_constrs = model.addConstrs((sum(u[i, p, m] for m in M) == D[i][p] for i in V for p in P), name=\"demand_constr\")"
   ]
  },
  {
   "cell_type": "markdown",
   "metadata": {},
   "source": [
    "#### Constraint \n",
    "\n",
    "- Compartment-Product Constraints\n",
    "     - A compartment must be assigned to **at most one** product.\n",
    "     <br> \n",
    "         <center> $\\sum_{p \\in P} y_{p, \\; m} \\leq 1 \\; \\; \\forall m \\in M$ </center><br>\n",
    "     - A product must be assigned to **at least one** compartment.\n",
    "     <br> \n",
    "         <center> $\\sum_{m \\in M} y_{p, \\; m} \\geq 1 \\; \\; \\forall p \\in P$ </center><br>\n",
    "      <br>\n",
    "     - A compartment can be assigned to a product only if it's capable to store this product.\n",
    "     <br> \n",
    "         <center>$y_{p, \\; m} \\leq  a_{m, \\; p} \\; \\; \\forall p \\in P, \\; \\forall m \\in M$ </center>\n",
    "     <br>\n",
    "     - The demand asignment is restricted by the assignment of the compartments to products.\n",
    "     <br>\n",
    "         <center>$u_{i, \\; p, \\; m} \\leq  y_{p, \\; m} * d_{i, \\; p} \\; \\; \\forall i \\in V, \\; \\forall p \\in P, \\; \\forall m \\in M$ </center>"
   ]
  },
  {
   "cell_type": "code",
   "execution_count": 29,
   "metadata": {
    "scrolled": true
   },
   "outputs": [],
   "source": [
    "comp_prod_constrs = model.addConstrs((sum(y[p, m] for p in P) <= 1 for m in M), name=\"compartment_product_constr\")\n",
    "prod_comp_constrs = model.addConstrs((sum(y[p, m] for m in M) >= 1 for p in P), name=\"product_compartment_constr\")\n",
    "comp_cap_constrs = model.addConstrs((y[p, m] <= Capabilities[m][p] for p in P for m in M), name=\"compartment_capability_constr\")\n",
    "share_dem_constrs = model.addConstrs((u[i, p, m] <= y[p, m] * D[i][p] for i in V for p in P for m in M), name=\"share_demand_constr\")"
   ]
  },
  {
   "cell_type": "markdown",
   "metadata": {},
   "source": [
    "### Objectice Function\n",
    "\n",
    "- Minimize the route cost.\n",
    " <br>\n",
    "     <center>$Min \\sum_{i \\in V} \\sum_{j \\in V} c_{i, \\; j} * x_{i, \\; j} $</center>"
   ]
  },
  {
   "cell_type": "code",
   "execution_count": 30,
   "metadata": {},
   "outputs": [],
   "source": [
    "# Set the objective function\n",
    "model.setObjective((sum(C[i][j] * x[i, j] for i in V for j in V)), GRB.MINIMIZE)"
   ]
  },
  {
   "cell_type": "code",
   "execution_count": 31,
   "metadata": {},
   "outputs": [
    {
     "name": "stdout",
     "output_type": "stream",
     "text": [
      "Warning: constraint name \"sub_tour_constr_[0, 1]\" has a space\n"
     ]
    }
   ],
   "source": [
    "model.write('TSPMC_1.lp')"
   ]
  },
  {
   "cell_type": "code",
   "execution_count": 32,
   "metadata": {},
   "outputs": [
    {
     "name": "stdout",
     "output_type": "stream",
     "text": [
      "Gurobi Optimizer version 9.5.0 build v9.5.0rc5 (linux64)\n",
      "Thread count: 6 physical cores, 12 logical processors, using up to 12 threads\n",
      "Optimize a model with 178 rows, 120 columns and 996 nonzeros\n",
      "Model fingerprint: 0x8463d1d4\n",
      "Variable types: 0 continuous, 120 integer (48 binary)\n",
      "Coefficient statistics:\n",
      "  Matrix range     [1e+00, 8e+02]\n",
      "  Objective range  [6e+00, 1e+02]\n",
      "  Bounds range     [1e+00, 8e+02]\n",
      "  RHS range        [1e+00, 8e+02]\n",
      "Found heuristic solution: objective 291.0000000\n",
      "Presolve removed 110 rows and 84 columns\n",
      "Presolve time: 0.00s\n",
      "Presolved: 68 rows, 36 columns, 702 nonzeros\n",
      "Variable types: 0 continuous, 36 integer (36 binary)\n",
      "\n",
      "Root relaxation: objective 7.500000e+01, 14 iterations, 0.00 seconds (0.00 work units)\n",
      "\n",
      "    Nodes    |    Current Node    |     Objective Bounds      |     Work\n",
      " Expl Unexpl |  Obj  Depth IntInf | Incumbent    BestBd   Gap | It/Node Time\n",
      "\n",
      "*    0     0               0      75.0000000   75.00000  0.00%     -    0s\n",
      "\n",
      "Explored 1 nodes (14 simplex iterations) in 0.02 seconds (0.00 work units)\n",
      "Thread count was 12 (of 12 available processors)\n",
      "\n",
      "Solution count 2: 75 291 \n",
      "\n",
      "Optimal solution found (tolerance 1.00e-04)\n",
      "Best objective 7.500000000000e+01, best bound 7.500000000000e+01, gap 0.0000%\n"
     ]
    }
   ],
   "source": [
    "# Run the optimization engine (implicitly runs model.update())\n",
    "model.optimize()"
   ]
  },
  {
   "cell_type": "code",
   "execution_count": 33,
   "metadata": {},
   "outputs": [
    {
     "name": "stdout",
     "output_type": "stream",
     "text": [
      "x[0,3]: 1.0\n",
      "x[1,4]: 1.0\n",
      "x[2,0]: 1.0\n",
      "x[3,5]: 1.0\n",
      "x[4,2]: 1.0\n",
      "x[5,1]: 1.0\n",
      "y[0,0]: 1.0\n",
      "y[0,1]: 1.0\n",
      "y[0,2]: 1.0\n",
      "y[0,3]: 1.0\n",
      "y[1,4]: 1.0\n",
      "y[1,5]: 1.0\n",
      "u[1,0,1]: 400.0\n",
      "u[2,0,1]: 400.0\n",
      "u[2,0,3]: 400.0\n",
      "u[3,0,3]: 400.0\n",
      "u[3,1,4]: 400.0\n",
      "u[4,1,4]: 400.0\n",
      "u[5,0,0]: 400.0\n",
      "u[5,1,5]: 800.0\n",
      "Total cost: 75.0\n"
     ]
    }
   ],
   "source": [
    "def print_solution(optimized_model):\n",
    "    for var in optimized_model.getVars():\n",
    "        if abs(var.x) > 1e-6:\n",
    "            print(\"{0}: {1}\".format(var.varName, var.x))\n",
    "    print(\"Total cost: {0}\".format(optimized_model.objVal))\n",
    "    return None\n",
    "\n",
    "# display optimal values of decision variables\n",
    "print_solution(model)  "
   ]
  },
  {
   "cell_type": "code",
   "execution_count": 34,
   "metadata": {},
   "outputs": [
    {
     "name": "stdout",
     "output_type": "stream",
     "text": [
      "The order of visiting the customers is [3, 5, 1, 4, 2]\n",
      "\n",
      "Loading at customer 3:\n",
      "comp_3: ['prod_0: 400'], comp_4: ['prod_1: 400']\n",
      "\n",
      "Loading at customer 5:\n",
      "comp_0: ['prod_0: 400'], comp_5: ['prod_1: 800']\n",
      "\n",
      "Loading at customer 1:\n",
      "comp_1: ['prod_0: 400']\n",
      "\n",
      "Loading at customer 4:\n",
      "comp_4: ['prod_1: 400']\n",
      "\n",
      "Loading at customer 2:\n",
      "comp_1: ['prod_0: 400'], comp_3: ['prod_0: 400']\n",
      "\n",
      "Backpack utilization: \n",
      "comp_0: 400, comp_1: 800, comp_2: 0, comp_3: 800, comp_4: 800, comp_5: 800\n"
     ]
    }
   ],
   "source": [
    "# The order of visiting the vertices\n",
    "nexts = [j for i in V for j in V if x[i, j].x == 1]\n",
    "\n",
    "# We always start at the depot\n",
    "order = [0] \n",
    "curr = nexts[0]\n",
    "\n",
    "# We always end at the depot\n",
    "while (curr !=0):\n",
    "    order.append(curr)\n",
    "    curr = nexts[curr]\n",
    "    \n",
    "print(f\"The order of visiting the customers is {order[1:]}\\n\")\n",
    "\n",
    "# Which demands are mapped to which compartments\n",
    "for i in order[1:]:\n",
    "    loading = [[u[i, p, m].x for p in P] for m in M]\n",
    "    loading_str = f\"Loading at customer {i}:\\n\"\n",
    "    loading_str += \", \".join([\"comp_{}: {}\".format(m, [\"prod_{}: {}\".format(p, int(loading[m][p])) for p in P if loading[m][p]]) for m in M if sum(loading[m])])\n",
    "    loading_str += \"\\n\"\n",
    "    print(loading_str)\n",
    "    \n",
    "backpack = {m: [] for m in M}\n",
    "for m in M:\n",
    "    loading = [[u[i, p, m].x for p in P] for i in V]\n",
    "    backpack[m].extend(int(loading[i][p]) for i in V for p in P if int(loading[i][p]))\n",
    "\n",
    "backpack_str = \"Backpack utilization: \\n\"\n",
    "backpack_str += \", \".join([f\"comp_{m}: {sum(vals)}\" for m, vals in backpack.items()])\n",
    "print(backpack_str)"
   ]
  }
 ],
 "metadata": {
  "interpreter": {
   "hash": "31f2aee4e71d21fbe5cf8b01ff0e069b9275f58929596ceb00d14d90e3e16cd6"
  },
  "kernelspec": {
   "display_name": "Python 3.8.10 64-bit",
   "language": "python",
   "name": "python3"
  },
  "language_info": {
   "codemirror_mode": {
    "name": "ipython",
    "version": 3
   },
   "file_extension": ".py",
   "mimetype": "text/x-python",
   "name": "python",
   "nbconvert_exporter": "python",
   "pygments_lexer": "ipython3",
   "version": "3.8.10"
  }
 },
 "nbformat": 4,
 "nbformat_minor": 4
}
