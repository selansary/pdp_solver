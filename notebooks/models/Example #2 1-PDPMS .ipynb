{
 "cells": [
  {
   "cell_type": "markdown",
   "metadata": {},
   "source": [
    "## Problem Statement \n",
    "\n",
    "The assignment of demands to vehicle compartments (stacks) in order to be transported from sources to targets. <br>\n",
    "\n",
    "##### Assumptions\n",
    "- Every customer / vertex represents a single request. (A single item to be transported).\n",
    "    - In case 2 items need to be picked from the same location, the model considers this as 2 pickup vertices (then the distance / cost can be initialized with 0).\n",
    "    \n",
    "- The Demand represents the length of the item. \n",
    "\n",
    "#### Data \n",
    "\n",
    "- $G = (V, A)$\n",
    "- $P = \\{1, .., n\\}$ $n$ pickup vertices for $n$ requests to be transported\n",
    "- $D = \\{n + 1, .., 2n\\}$ $n$ delivery vertices for $n$ requests to be transported\n",
    "- $V = \\{0, 1, .., 2n\\}$, where $0$ is the *depot*.\n",
    "- Cost / Distance Matrix $C$, where $c_{i, \\; j}$ is the cost of arc $i$ --> $j$.\n",
    "- $M = \\{1,.., m\\}$ the set of Vehicle Compartments (stacks).\n",
    "- $CompartmentCapacities = \\{q_{k} |\\; k \\; in \\; M\\}$\n",
    "- $Demands = \\{d_{i}, .., d_{n}\\, -d_{i}, .., -d_{n}\\}$, where $d_{i}$ is the demand at vertex $i$ and $d_{i + n} = -d_{i}$ \n",
    "\n",
    "#### Decision Variables\n",
    "\n",
    "- $x_{i,\\; j}$\n",
    "    - $x_{i,\\; j} = 1$ if the vehicle is travelling from $i$ to $j$\n",
    "    - $x_{i,\\; j} = 0$ otherwise\n",
    "- $y_{i,\\; k}$\n",
    "    - $y_{i,\\; k} = 1$ if the demand at pickup vertex $i$ is loaded in stack $k$\n",
    "    - $y_{i,\\; k} = 0$ otherwise\n",
    "- $u_{i}$ is the position of vertex $i$ in the route (order).\n",
    "    - $0 \\leq u_{i} \\leq 2n$\n",
    "    - $u_{0} = 0$ we start at the depot\n",
    "- $s_{i,\\; k}$ is the load of stack $k$ upon **leaving** vertex $i$\n",
    "    - Domain $ : \\{0, 1, .., q_{k}\\}$ \n",
    "\n",
    "#### Constraints\n",
    "- Every customer (vertex) is visited once.\n",
    "    <br>\n",
    "    <center> $\\sum_{j \\in V} x_{i, \\; j} = 1$    $\\; \\forall i \\in V$ (2)</center>\n",
    "    <center> $\\sum_{j \\in V} x_{j, \\; i} = 1$    $\\; \\forall i \\in V$ (3)</center>\n",
    "    <br>\n",
    "    \n",
    "- The demand of every vertex is assigned to exactly one compartment. (Demand must be fulfilled)\n",
    "    <br>\n",
    "    <center> $\\sum_{k \\in M} y_{i, \\; k} = 1$    $\\; \\forall i \\in P$ (4)</center>\n",
    "    <br>\n",
    "\n",
    "- If $j$ is visited directly after $i$ i.e. $x_{i, \\; j} = 1$, then $u_{j} \\geq u_{i} + 1$\n",
    "    <br>\n",
    "    <center> $u_{j} \\geq u_{i} + 1 - 2n(1 - x_{i, \\; j}) \\; \\forall i \\in V, \\; \\forall j \\in P \\cup D$ (5)</center>\n",
    "    <br>\n",
    "    \n",
    "- The item must be picked before it's delivered. Precedence constraint between pickups and deliveries.\n",
    "    <br>\n",
    "    <center> $u_{n + i} \\geq u_{i} + 1 \\; \\forall i \\in P$ (6)</center>\n",
    "    <br>\n",
    "    \n",
    "- The state of the stack after loading and unloading.\n",
    "    - The state of the assigned stack after picking is lowerbounded by the stack before picking and the picked (loaded) demand.\n",
    "    \n",
    "    <br>\n",
    "    <center> $s_{j, \\; k} \\geq s_{i, \\; k} + d_{j} * y_{j, \\; k} - q_{k} * (1 - x_{i, \\; j}) \\; \\forall i \\in V, \\; \\forall j \\in P, \\; \\forall k \\in M$ (7)</center>\n",
    "    <br>\n",
    "    \n",
    "    - The state of the assigned stack after delivering is lowerbounded by the stack before delivering and the (negative) delivered (unloaded) demand.\n",
    "    \n",
    "    <br>\n",
    "    <center> $s_{(n + j), \\; k} \\geq s_{i, \\; k} + d_{(n + j)} * y_{j, \\; k} - q_{k} * (1 - x_{i, \\; (n + j)}) \\; \\forall i \\in V, \\; \\forall j \\in P, \\; \\forall k \\in M$ (8)</center>\n",
    "    <br>\n",
    "    \n",
    "    - LIFO stacking constraint. The state of the stack after unloading is bounded by the state of the stack just after loading and the loaded / unloaded demand. (The state after unload $d{j}$ = state before loading $d{j}$ where $- d{j}$ is equivalent to $ + d_{j + n}$.\n",
    "    \n",
    "    <br>\n",
    "    <center> $s_{(n + j), \\; k} \\geq s_{j, \\; k} + d_{(n + j)} * y_{j, \\; k} - q_{k} * (1 - y_{j, \\; k}) \\; \\forall j \\in P, \\; \\forall k \\in M$ (9)</center>\n",
    "    <br>\n",
    "\n",
    "- We always start at the depot.\n",
    "    <br><center> $u_{0} = 0$ (10)</center><br>\n",
    "\n",
    "- Vertices are order along the route.\n",
    "    <br><center> $1 \\leq u_{i}  \\leq 2n \\; \\forall i \\in P \\cup D$ (11)</center><br>\n",
    "\n",
    "- We always begin with empty stacks at the depot.\n",
    "    <br><center> $s_{0, \\; k} = 0 \\; \\forall k \\in M$ (12)</center><br>\n",
    "\n",
    "- The stack capacity is always maintained for all stacks. \n",
    "    <br><center> $0 \\leq s_{i, \\; k}  \\leq q_{k} \\; \\forall i \\in P \\cup D \\; \\forall k \\in M$ (13)</center><br>\n",
    "\n",
    "\n",
    "#### Objectice Function\n",
    "- Minimize the route cost.\n",
    " <br>\n",
    "     <center>$Min \\sum_{i \\in V} \\sum_{j \\in V} c_{i, \\; j} * x_{i, \\; j}$ (1)</center>\n"
   ]
  },
  {
   "cell_type": "code",
   "execution_count": 1,
   "metadata": {},
   "outputs": [],
   "source": [
    "from gurobipy import *"
   ]
  },
  {
   "cell_type": "code",
   "execution_count": 2,
   "metadata": {},
   "outputs": [],
   "source": [
    "import random \n",
    "random.seed(0)"
   ]
  },
  {
   "cell_type": "markdown",
   "metadata": {},
   "source": [
    "#### Data \n",
    "\n",
    "- $G = (V, A)$\n",
    "- $P = \\{1, .., n\\}$ $n$ pickup vertices for $n$ requests to be transported\n",
    "- $D = \\{n + 1, .., 2n\\}$ $n$ delivery vertices for $n$ requests to be transported\n",
    "- $V = \\{0, 1, .., 2n\\}$, where $0$ is the *depot*.\n",
    "- Cost / Distance Matrix $C$, where $c_{i, \\; j}$ is the cost of arc $i$ --> $j$.\n",
    "- $M = \\{1,.., m\\}$ the set of Vehicle Compartments (stacks).\n",
    "- $CompartmentCapacities = \\{q_{k} |\\; k \\; in \\; M\\}$\n",
    "- $Demands = \\{d_{i}, .., d_{n}\\, -d_{i}, .., -d_{n}\\}$, where $d_{i}$ is the demand at vertex $i$ and $d_{i + n} = -d_{i}$ "
   ]
  },
  {
   "cell_type": "code",
   "execution_count": 3,
   "metadata": {},
   "outputs": [],
   "source": [
    "# Assume we have a depot and 5 items to be transported (1 + 10 vertices)\n",
    "nb_items = 5\n",
    "V = [i for i in range(nb_items * 2 + 1)]\n",
    "P = V[1:nb_items + 1]\n",
    "D = V[nb_items + 1:]\n",
    "PUD = V[1:]\n",
    "N = len(P) # == nb_items\n",
    "\n",
    "# Assume an arbitrary graph\n",
    "# Distance from / to depot is 0\n",
    "random.seed(0)\n",
    "A = [[random.randint(1, 100) if i != 0 and j !=0  and i != j else 0 for i in V] for j in V]\n",
    "C = A\n",
    "\n",
    "# Assume we have 3 compartments in the vehicle, each of depth 800.\n",
    "nb_compartments = 3\n",
    "M = [i for i in range(nb_compartments)]\n",
    "Capacities = [800 for i in range(nb_compartments)]\n",
    "\n",
    "# Demands (5 items)\n",
    "Demands = [0] + [400] * nb_items + [-400] * nb_items\n"
   ]
  },
  {
   "cell_type": "code",
   "execution_count": 4,
   "metadata": {},
   "outputs": [
    {
     "name": "stdout",
     "output_type": "stream",
     "text": [
      "Number of requests 5\n",
      "The cost matrix \n",
      "[[0, 0, 0, 0, 0, 0, 0, 0, 0, 0, 0], [0, 0, 50, 98, 54, 6, 34, 66, 63, 52, 39], [0, 62, 0, 46, 75, 28, 65, 18, 37, 18, 97], [0, 13, 80, 0, 33, 69, 91, 78, 19, 40, 13], [0, 94, 10, 88, 0, 43, 61, 72, 13, 46, 56], [0, 41, 79, 82, 27, 0, 71, 62, 57, 67, 34], [0, 8, 71, 2, 12, 93, 0, 52, 91, 86, 81], [0, 1, 79, 64, 43, 32, 94, 0, 42, 91, 9], [0, 25, 73, 29, 31, 19, 70, 58, 0, 12, 11], [0, 41, 66, 63, 14, 39, 71, 38, 91, 0, 16], [0, 71, 43, 70, 27, 78, 71, 76, 37, 57, 0]]\n"
     ]
    }
   ],
   "source": [
    "print(f\"Number of requests {nb_items}\")\n",
    "print(f\"The cost matrix \\n{C}\")"
   ]
  },
  {
   "cell_type": "code",
   "execution_count": 5,
   "metadata": {},
   "outputs": [
    {
     "name": "stdout",
     "output_type": "stream",
     "text": [
      "Set parameter Username\n",
      "\n",
      "--------------------------------------------\n",
      "Warning: your license will expire in 13 days\n",
      "--------------------------------------------\n",
      "\n",
      "Academic license - for non-commercial use only - expires 2022-03-22\n"
     ]
    }
   ],
   "source": [
    "# Declare and initialize the model\n",
    "model = Model(\"1-PDPMS\")"
   ]
  },
  {
   "cell_type": "markdown",
   "metadata": {},
   "source": [
    "#### Decision Variables\n",
    "\n",
    "- $x_{i,\\; j}$\n",
    "    - $x_{i,\\; j} = 1$ if the vehicle is travelling from $i$ to $j$\n",
    "    - $x_{i,\\; j} = 0$ otherwise\n",
    "- $y_{i,\\; k}$\n",
    "    - $y_{i,\\; k} = 1$ if the demand at pickup vertex $i$ is loaded in stack $k$\n",
    "    - $y_{i,\\; k} = 0$ otherwise\n",
    "- $u_{i}$ is the position of vertex $i$ in the route (order).\n",
    "    - $0 \\leq u_{i} \\leq 2n$\n",
    "    - $u_{0} = 0$ we start at the depot\n",
    "- $s_{i,\\; k}$ is the load of stack $k$ upon **leaving** vertex $i$\n",
    "    - Domain $ : \\{0, 1, .., q_{k}\\}$ "
   ]
  },
  {
   "cell_type": "code",
   "execution_count": 6,
   "metadata": {},
   "outputs": [],
   "source": [
    "x = model.addVars(V, V, vtype=GRB.BINARY, name=\"x\")\n",
    "y = model.addVars(V, M, vtype=GRB.BINARY, name=\"y\")\n",
    "u = model.addVars(V, vtype=GRB.INTEGER, name=\"u\")\n",
    "s = model.addVars(V, M, vtype=GRB.INTEGER, name=\"s\")"
   ]
  },
  {
   "cell_type": "code",
   "execution_count": 7,
   "metadata": {},
   "outputs": [],
   "source": [
    "# Set the bounds of the integer vars\n",
    "for i in u:\n",
    "    u[i].setAttr(GRB.Attr.LB, 0)    \n",
    "    u[i].setAttr(GRB.Attr.UB, len(V) - 1)\n",
    "\n",
    "for i, k in s:\n",
    "    s[i, k].setAttr(GRB.Attr.LB, 0)    \n",
    "    s[i, k].setAttr(GRB.Attr.UB, Capacities[k])\n",
    "    \n",
    "model.update()"
   ]
  },
  {
   "cell_type": "markdown",
   "metadata": {},
   "source": [
    "### Constraints\n",
    "\n",
    "#### Constraint\n",
    "- Every customer (vertex) is visited once.\n",
    "    <br>\n",
    "    <center> $\\sum_{j \\in V} x_{i, \\; j} = 1$    $\\; \\forall i \\in V$ (2)</center>\n",
    "    <center> $\\sum_{j \\in V} x_{j, \\; i} = 1$    $\\; \\forall i \\in V$ (3)</center>\n",
    "    <br>\n",
    "    "
   ]
  },
  {
   "cell_type": "code",
   "execution_count": 8,
   "metadata": {},
   "outputs": [
    {
     "data": {
      "text/plain": [
       "{0: <gurobi.Constr *Awaiting Model Update*>,\n",
       " 1: <gurobi.Constr *Awaiting Model Update*>,\n",
       " 2: <gurobi.Constr *Awaiting Model Update*>,\n",
       " 3: <gurobi.Constr *Awaiting Model Update*>,\n",
       " 4: <gurobi.Constr *Awaiting Model Update*>,\n",
       " 5: <gurobi.Constr *Awaiting Model Update*>,\n",
       " 6: <gurobi.Constr *Awaiting Model Update*>,\n",
       " 7: <gurobi.Constr *Awaiting Model Update*>,\n",
       " 8: <gurobi.Constr *Awaiting Model Update*>,\n",
       " 9: <gurobi.Constr *Awaiting Model Update*>,\n",
       " 10: <gurobi.Constr *Awaiting Model Update*>}"
      ]
     },
     "execution_count": 8,
     "metadata": {},
     "output_type": "execute_result"
    }
   ],
   "source": [
    "# 2\n",
    "# Every vertex is left once\n",
    "model.addConstrs((sum(x[i, j] for j in V) == 1 for i in V), name=\"out_vertex_constr\")\n",
    "\n",
    "# 3\n",
    "# Every vertex is entered once\n",
    "model.addConstrs((sum(x[j, i] for j in V) == 1 for i in V), name=\"in_vertex_constr\")"
   ]
  },
  {
   "cell_type": "markdown",
   "metadata": {},
   "source": [
    "#### Constraint\n",
    "- The demand of every vertex is assigned to exactly one compartment. (Demand must be fulfilled)\n",
    "    <br>\n",
    "    <center> $\\sum_{k \\in M} y_{i, \\; k} = 1$    $\\; \\forall i \\in P$ (4)</center>\n",
    "    <br>"
   ]
  },
  {
   "cell_type": "code",
   "execution_count": 9,
   "metadata": {},
   "outputs": [
    {
     "data": {
      "text/plain": [
       "{1: <gurobi.Constr *Awaiting Model Update*>,\n",
       " 2: <gurobi.Constr *Awaiting Model Update*>,\n",
       " 3: <gurobi.Constr *Awaiting Model Update*>,\n",
       " 4: <gurobi.Constr *Awaiting Model Update*>,\n",
       " 5: <gurobi.Constr *Awaiting Model Update*>}"
      ]
     },
     "execution_count": 9,
     "metadata": {},
     "output_type": "execute_result"
    }
   ],
   "source": [
    "model.addConstrs((sum(y[i, k] for k in M) == 1 for i in P), name=\"fulfill_demands_constr\")"
   ]
  },
  {
   "cell_type": "markdown",
   "metadata": {},
   "source": [
    "#### Constraint\n",
    "\n",
    "- If $j$ is visited directly after $i$ i.e. $x_{i, \\; j} = 1$, then $u_{j} \\geq u_{i} + 1$\n",
    "    <br>\n",
    "    <center> $u_{j} \\geq u_{i} + 1 - 2n(1 - x_{i, \\; j}) \\; \\forall i \\in V, \\; \\forall j \\in P \\cup D$ (5)</center>\n",
    "    <br>"
   ]
  },
  {
   "cell_type": "code",
   "execution_count": 10,
   "metadata": {},
   "outputs": [
    {
     "data": {
      "text/plain": [
       "{(0, 1): <gurobi.Constr *Awaiting Model Update*>,\n",
       " (0, 2): <gurobi.Constr *Awaiting Model Update*>,\n",
       " (0, 3): <gurobi.Constr *Awaiting Model Update*>,\n",
       " (0, 4): <gurobi.Constr *Awaiting Model Update*>,\n",
       " (0, 5): <gurobi.Constr *Awaiting Model Update*>,\n",
       " (0, 6): <gurobi.Constr *Awaiting Model Update*>,\n",
       " (0, 7): <gurobi.Constr *Awaiting Model Update*>,\n",
       " (0, 8): <gurobi.Constr *Awaiting Model Update*>,\n",
       " (0, 9): <gurobi.Constr *Awaiting Model Update*>,\n",
       " (0, 10): <gurobi.Constr *Awaiting Model Update*>,\n",
       " (1, 1): <gurobi.Constr *Awaiting Model Update*>,\n",
       " (1, 2): <gurobi.Constr *Awaiting Model Update*>,\n",
       " (1, 3): <gurobi.Constr *Awaiting Model Update*>,\n",
       " (1, 4): <gurobi.Constr *Awaiting Model Update*>,\n",
       " (1, 5): <gurobi.Constr *Awaiting Model Update*>,\n",
       " (1, 6): <gurobi.Constr *Awaiting Model Update*>,\n",
       " (1, 7): <gurobi.Constr *Awaiting Model Update*>,\n",
       " (1, 8): <gurobi.Constr *Awaiting Model Update*>,\n",
       " (1, 9): <gurobi.Constr *Awaiting Model Update*>,\n",
       " (1, 10): <gurobi.Constr *Awaiting Model Update*>,\n",
       " (2, 1): <gurobi.Constr *Awaiting Model Update*>,\n",
       " (2, 2): <gurobi.Constr *Awaiting Model Update*>,\n",
       " (2, 3): <gurobi.Constr *Awaiting Model Update*>,\n",
       " (2, 4): <gurobi.Constr *Awaiting Model Update*>,\n",
       " (2, 5): <gurobi.Constr *Awaiting Model Update*>,\n",
       " (2, 6): <gurobi.Constr *Awaiting Model Update*>,\n",
       " (2, 7): <gurobi.Constr *Awaiting Model Update*>,\n",
       " (2, 8): <gurobi.Constr *Awaiting Model Update*>,\n",
       " (2, 9): <gurobi.Constr *Awaiting Model Update*>,\n",
       " (2, 10): <gurobi.Constr *Awaiting Model Update*>,\n",
       " (3, 1): <gurobi.Constr *Awaiting Model Update*>,\n",
       " (3, 2): <gurobi.Constr *Awaiting Model Update*>,\n",
       " (3, 3): <gurobi.Constr *Awaiting Model Update*>,\n",
       " (3, 4): <gurobi.Constr *Awaiting Model Update*>,\n",
       " (3, 5): <gurobi.Constr *Awaiting Model Update*>,\n",
       " (3, 6): <gurobi.Constr *Awaiting Model Update*>,\n",
       " (3, 7): <gurobi.Constr *Awaiting Model Update*>,\n",
       " (3, 8): <gurobi.Constr *Awaiting Model Update*>,\n",
       " (3, 9): <gurobi.Constr *Awaiting Model Update*>,\n",
       " (3, 10): <gurobi.Constr *Awaiting Model Update*>,\n",
       " (4, 1): <gurobi.Constr *Awaiting Model Update*>,\n",
       " (4, 2): <gurobi.Constr *Awaiting Model Update*>,\n",
       " (4, 3): <gurobi.Constr *Awaiting Model Update*>,\n",
       " (4, 4): <gurobi.Constr *Awaiting Model Update*>,\n",
       " (4, 5): <gurobi.Constr *Awaiting Model Update*>,\n",
       " (4, 6): <gurobi.Constr *Awaiting Model Update*>,\n",
       " (4, 7): <gurobi.Constr *Awaiting Model Update*>,\n",
       " (4, 8): <gurobi.Constr *Awaiting Model Update*>,\n",
       " (4, 9): <gurobi.Constr *Awaiting Model Update*>,\n",
       " (4, 10): <gurobi.Constr *Awaiting Model Update*>,\n",
       " (5, 1): <gurobi.Constr *Awaiting Model Update*>,\n",
       " (5, 2): <gurobi.Constr *Awaiting Model Update*>,\n",
       " (5, 3): <gurobi.Constr *Awaiting Model Update*>,\n",
       " (5, 4): <gurobi.Constr *Awaiting Model Update*>,\n",
       " (5, 5): <gurobi.Constr *Awaiting Model Update*>,\n",
       " (5, 6): <gurobi.Constr *Awaiting Model Update*>,\n",
       " (5, 7): <gurobi.Constr *Awaiting Model Update*>,\n",
       " (5, 8): <gurobi.Constr *Awaiting Model Update*>,\n",
       " (5, 9): <gurobi.Constr *Awaiting Model Update*>,\n",
       " (5, 10): <gurobi.Constr *Awaiting Model Update*>,\n",
       " (6, 1): <gurobi.Constr *Awaiting Model Update*>,\n",
       " (6, 2): <gurobi.Constr *Awaiting Model Update*>,\n",
       " (6, 3): <gurobi.Constr *Awaiting Model Update*>,\n",
       " (6, 4): <gurobi.Constr *Awaiting Model Update*>,\n",
       " (6, 5): <gurobi.Constr *Awaiting Model Update*>,\n",
       " (6, 6): <gurobi.Constr *Awaiting Model Update*>,\n",
       " (6, 7): <gurobi.Constr *Awaiting Model Update*>,\n",
       " (6, 8): <gurobi.Constr *Awaiting Model Update*>,\n",
       " (6, 9): <gurobi.Constr *Awaiting Model Update*>,\n",
       " (6, 10): <gurobi.Constr *Awaiting Model Update*>,\n",
       " (7, 1): <gurobi.Constr *Awaiting Model Update*>,\n",
       " (7, 2): <gurobi.Constr *Awaiting Model Update*>,\n",
       " (7, 3): <gurobi.Constr *Awaiting Model Update*>,\n",
       " (7, 4): <gurobi.Constr *Awaiting Model Update*>,\n",
       " (7, 5): <gurobi.Constr *Awaiting Model Update*>,\n",
       " (7, 6): <gurobi.Constr *Awaiting Model Update*>,\n",
       " (7, 7): <gurobi.Constr *Awaiting Model Update*>,\n",
       " (7, 8): <gurobi.Constr *Awaiting Model Update*>,\n",
       " (7, 9): <gurobi.Constr *Awaiting Model Update*>,\n",
       " (7, 10): <gurobi.Constr *Awaiting Model Update*>,\n",
       " (8, 1): <gurobi.Constr *Awaiting Model Update*>,\n",
       " (8, 2): <gurobi.Constr *Awaiting Model Update*>,\n",
       " (8, 3): <gurobi.Constr *Awaiting Model Update*>,\n",
       " (8, 4): <gurobi.Constr *Awaiting Model Update*>,\n",
       " (8, 5): <gurobi.Constr *Awaiting Model Update*>,\n",
       " (8, 6): <gurobi.Constr *Awaiting Model Update*>,\n",
       " (8, 7): <gurobi.Constr *Awaiting Model Update*>,\n",
       " (8, 8): <gurobi.Constr *Awaiting Model Update*>,\n",
       " (8, 9): <gurobi.Constr *Awaiting Model Update*>,\n",
       " (8, 10): <gurobi.Constr *Awaiting Model Update*>,\n",
       " (9, 1): <gurobi.Constr *Awaiting Model Update*>,\n",
       " (9, 2): <gurobi.Constr *Awaiting Model Update*>,\n",
       " (9, 3): <gurobi.Constr *Awaiting Model Update*>,\n",
       " (9, 4): <gurobi.Constr *Awaiting Model Update*>,\n",
       " (9, 5): <gurobi.Constr *Awaiting Model Update*>,\n",
       " (9, 6): <gurobi.Constr *Awaiting Model Update*>,\n",
       " (9, 7): <gurobi.Constr *Awaiting Model Update*>,\n",
       " (9, 8): <gurobi.Constr *Awaiting Model Update*>,\n",
       " (9, 9): <gurobi.Constr *Awaiting Model Update*>,\n",
       " (9, 10): <gurobi.Constr *Awaiting Model Update*>,\n",
       " (10, 1): <gurobi.Constr *Awaiting Model Update*>,\n",
       " (10, 2): <gurobi.Constr *Awaiting Model Update*>,\n",
       " (10, 3): <gurobi.Constr *Awaiting Model Update*>,\n",
       " (10, 4): <gurobi.Constr *Awaiting Model Update*>,\n",
       " (10, 5): <gurobi.Constr *Awaiting Model Update*>,\n",
       " (10, 6): <gurobi.Constr *Awaiting Model Update*>,\n",
       " (10, 7): <gurobi.Constr *Awaiting Model Update*>,\n",
       " (10, 8): <gurobi.Constr *Awaiting Model Update*>,\n",
       " (10, 9): <gurobi.Constr *Awaiting Model Update*>,\n",
       " (10, 10): <gurobi.Constr *Awaiting Model Update*>}"
      ]
     },
     "execution_count": 10,
     "metadata": {},
     "output_type": "execute_result"
    }
   ],
   "source": [
    "model.addConstrs((u[j] >= u[i] + 1 - (2 * N * (1 - x[i, j])) for i in V for j in PUD), name=\"visiting_order_constr\" )"
   ]
  },
  {
   "cell_type": "markdown",
   "metadata": {},
   "source": [
    "#### Constraint\n",
    "\n",
    "- The item must be picked before it's delivered. Precedence constraint between pickups and deliveries.\n",
    "    <br>\n",
    "    <center> $u_{n + i} \\geq u_{i} + 1 \\; \\forall i \\in P$ (6)</center>\n",
    "    <br>"
   ]
  },
  {
   "cell_type": "code",
   "execution_count": 11,
   "metadata": {},
   "outputs": [
    {
     "data": {
      "text/plain": [
       "{1: <gurobi.Constr *Awaiting Model Update*>,\n",
       " 2: <gurobi.Constr *Awaiting Model Update*>,\n",
       " 3: <gurobi.Constr *Awaiting Model Update*>,\n",
       " 4: <gurobi.Constr *Awaiting Model Update*>,\n",
       " 5: <gurobi.Constr *Awaiting Model Update*>}"
      ]
     },
     "execution_count": 11,
     "metadata": {},
     "output_type": "execute_result"
    }
   ],
   "source": [
    "model.addConstrs((u[N + i] >= u[i] + 1 for i in P), name=\"pickup_before_delivery_constr\")"
   ]
  },
  {
   "cell_type": "markdown",
   "metadata": {},
   "source": [
    "#### Constraint\n",
    "\n",
    "- The state of the stack after loading and unloading.\n",
    "    - The state of the assigned stack after picking is upperbounded by the stack before picking and the picked (loaded) demand.\n",
    "    \n",
    "    <br>\n",
    "    <center> $s_{j, \\; k} \\geq s_{i, \\; k} + d_{j} * y_{j, \\; k} - q_{k} * (1 - x_{i, \\; j}) \\; \\forall i \\in V, \\; \\forall j \\in P, \\; \\forall k \\in M$ (7)</center>\n",
    "    <br>\n",
    "    \n",
    "    - The state of the assinged stack after delivering is upperbounded by the stack before delivering and the (negative) delivered (unloaded) demand.\n",
    "    \n",
    "    <br>\n",
    "    <center> $s_{(n + j), \\; k} \\geq s_{i, \\; k} + d_{(n + j)} * y_{j, \\; k} - q_{k} * (1 - x_{i, \\; (n + j)}) \\; \\forall i \\in V, \\; \\forall j \\in P, \\; \\forall k \\in M$ (8)</center>\n",
    "    <br>\n",
    "    \n",
    "    - LIFO stacking constraint. The state of the stack after unloading is bounded by the state of the stack just after loading and the loaded / unloaded demand. (The state after unload $d{j}$ = state after loading $d{j} - d{j}$ equivalent to $ + d_{j + n}$.\n",
    "    \n",
    "    <br>\n",
    "    <center> $s_{(n + j), \\; k} \\geq s_{j, \\; k} + d_{(n + j)} * y_{j, \\; k} - q_{k} * (1 - y_{j, \\; k}) \\; \\forall j \\in P, \\; \\forall k \\in M$ (9)</center>\n",
    "    <br>"
   ]
  },
  {
   "cell_type": "code",
   "execution_count": 12,
   "metadata": {},
   "outputs": [
    {
     "data": {
      "text/plain": [
       "{(1, 0): <gurobi.Constr *Awaiting Model Update*>,\n",
       " (1, 1): <gurobi.Constr *Awaiting Model Update*>,\n",
       " (1, 2): <gurobi.Constr *Awaiting Model Update*>,\n",
       " (2, 0): <gurobi.Constr *Awaiting Model Update*>,\n",
       " (2, 1): <gurobi.Constr *Awaiting Model Update*>,\n",
       " (2, 2): <gurobi.Constr *Awaiting Model Update*>,\n",
       " (3, 0): <gurobi.Constr *Awaiting Model Update*>,\n",
       " (3, 1): <gurobi.Constr *Awaiting Model Update*>,\n",
       " (3, 2): <gurobi.Constr *Awaiting Model Update*>,\n",
       " (4, 0): <gurobi.Constr *Awaiting Model Update*>,\n",
       " (4, 1): <gurobi.Constr *Awaiting Model Update*>,\n",
       " (4, 2): <gurobi.Constr *Awaiting Model Update*>,\n",
       " (5, 0): <gurobi.Constr *Awaiting Model Update*>,\n",
       " (5, 1): <gurobi.Constr *Awaiting Model Update*>,\n",
       " (5, 2): <gurobi.Constr *Awaiting Model Update*>}"
      ]
     },
     "execution_count": 12,
     "metadata": {},
     "output_type": "execute_result"
    }
   ],
   "source": [
    "# 7\n",
    "model.addConstrs((s[j, k] >= s[i, k] + Demands[j] * y[j, k] - Capacities[k] * (1 - x[i, j]) for i in V for j in P for k in M), name=\"stack_after_pickup_constr\")\n",
    "\n",
    "# 8\n",
    "model.addConstrs((s[N + j, k] >= s[i, k] + Demands[N + j] * y[j, k] - Capacities[k] * (1 - x[i, N + j]) for i in V for j in P for k in M), name=\"stack_after_delivery_constr\")\n",
    "\n",
    "# 9\n",
    "model.addConstrs((s[N + j, k] >= s[j, k] + Demands[N + j] * y[j, k] - Capacities[k] * (1 - y[j, k]) for j in P for k in M), name=\"stack_LIFO_constr\")"
   ]
  },
  {
   "cell_type": "markdown",
   "metadata": {},
   "source": [
    "#### Constraint\n",
    "\n",
    "- We always start at the depot.\n",
    "    <br><center> $u_{0} = 0$ (10)</center><br>"
   ]
  },
  {
   "cell_type": "code",
   "execution_count": 13,
   "metadata": {},
   "outputs": [
    {
     "data": {
      "text/plain": [
       "<gurobi.Constr *Awaiting Model Update*>"
      ]
     },
     "execution_count": 13,
     "metadata": {},
     "output_type": "execute_result"
    }
   ],
   "source": [
    "model.addConstr(u[0] == 0, name=\"start_at_depot_constr\")"
   ]
  },
  {
   "cell_type": "markdown",
   "metadata": {},
   "source": [
    "#### Constraints\n",
    "\n",
    "- Vertices are order along the route.\n",
    "    <br><center> $1 \\leq u_{i}  \\leq 2n \\; \\forall i \\in P \\cup D$ (11)</center><br>\n",
    "\n",
    "- We always begin with empty stacks at the depot.\n",
    "    <br><center> $s_{0, \\; k} = 0 \\; \\forall k \\in M$ (12)</center><br>\n",
    "\n",
    "- The stack capacity is always maintained for all stacks. \n",
    "    <br><center> $0 \\leq s_{i, \\; k}  \\leq q_{k} \\; \\forall i \\in P \\cup D \\; \\forall k \\in M$ (13)</center><br>"
   ]
  },
  {
   "cell_type": "code",
   "execution_count": 14,
   "metadata": {},
   "outputs": [
    {
     "data": {
      "text/plain": [
       "{0: <gurobi.Constr *Awaiting Model Update*>,\n",
       " 1: <gurobi.Constr *Awaiting Model Update*>,\n",
       " 2: <gurobi.Constr *Awaiting Model Update*>}"
      ]
     },
     "execution_count": 14,
     "metadata": {},
     "output_type": "execute_result"
    }
   ],
   "source": [
    "# 11\n",
    "# constraint implicit in the domain of u\n",
    "\n",
    "# 12\n",
    "model.addConstrs((s[0, k] == 0 for k in M), name=\"empty_stacks_at_depot_constr\")\n",
    "\n",
    "# 13\n",
    "# constraint implicit in the domain of s"
   ]
  },
  {
   "cell_type": "markdown",
   "metadata": {},
   "source": [
    "### Objectice Function\n",
    "\n",
    "- Minimize the route cost.\n",
    " <br>\n",
    "     <center>$Min \\sum_{i \\in V} \\sum_{j \\in V} c_{i, \\; j} * x_{i, \\; j}$ (1)</center>"
   ]
  },
  {
   "cell_type": "code",
   "execution_count": 15,
   "metadata": {},
   "outputs": [],
   "source": [
    "# Set the objective function\n",
    "model.setObjective((sum(C[i][j] * x[i, j] for i in V for j in V)), GRB.MINIMIZE)"
   ]
  },
  {
   "cell_type": "code",
   "execution_count": 16,
   "metadata": {},
   "outputs": [],
   "source": [
    "model.write('1-PDPMS_1.lp')"
   ]
  },
  {
   "cell_type": "code",
   "execution_count": 17,
   "metadata": {},
   "outputs": [
    {
     "name": "stdout",
     "output_type": "stream",
     "text": [
      "Gurobi Optimizer version 9.5.0 build v9.5.0rc5 (linux64)\n",
      "Thread count: 6 physical cores, 12 logical processors, using up to 12 threads\n",
      "Optimize a model with 491 rows, 198 columns and 1886 nonzeros\n",
      "Model fingerprint: 0x274e7098\n",
      "Variable types: 0 continuous, 198 integer (154 binary)\n",
      "Coefficient statistics:\n",
      "  Matrix range     [1e+00, 8e+02]\n",
      "  Objective range  [1e+00, 1e+02]\n",
      "  Bounds range     [1e+00, 8e+02]\n",
      "  RHS range        [1e+00, 8e+02]\n",
      "Presolve removed 69 rows and 37 columns\n",
      "Presolve time: 0.01s\n",
      "Presolved: 422 rows, 161 columns, 1652 nonzeros\n",
      "Variable types: 0 continuous, 161 integer (121 binary)\n",
      "Found heuristic solution: objective 139.0000000\n",
      "\n",
      "Root relaxation: objective 1.135600e+02, 88 iterations, 0.00 seconds (0.00 work units)\n",
      "\n",
      "    Nodes    |    Current Node    |     Objective Bounds      |     Work\n",
      " Expl Unexpl |  Obj  Depth IntInf | Incumbent    BestBd   Gap | It/Node Time\n",
      "\n",
      "     0     0  113.56000    0   22  139.00000  113.56000  18.3%     -    0s\n",
      "     0     0  123.00000    0   15  139.00000  123.00000  11.5%     -    0s\n",
      "     0     0  123.00000    0   21  139.00000  123.00000  11.5%     -    0s\n",
      "     0     0  139.00000    0   21  139.00000  139.00000  0.00%     -    0s\n",
      "\n",
      "Cutting planes:\n",
      "  Learned: 1\n",
      "  Gomory: 1\n",
      "  Implied bound: 5\n",
      "  Clique: 1\n",
      "  MIR: 9\n",
      "  StrongCG: 2\n",
      "  Zero half: 2\n",
      "  RLT: 2\n",
      "  Relax-and-lift: 4\n",
      "\n",
      "Explored 1 nodes (256 simplex iterations) in 0.06 seconds (0.02 work units)\n",
      "Thread count was 12 (of 12 available processors)\n",
      "\n",
      "Solution count 2: 139 139 \n",
      "\n",
      "Optimal solution found (tolerance 1.00e-04)\n",
      "Best objective 1.390000000000e+02, best bound 1.390000000000e+02, gap 0.0000%\n"
     ]
    }
   ],
   "source": [
    "# Run the optimization engine (implicitly runs model.update())\n",
    "model.optimize()"
   ]
  },
  {
   "cell_type": "code",
   "execution_count": 18,
   "metadata": {},
   "outputs": [
    {
     "name": "stdout",
     "output_type": "stream",
     "text": [
      "x[0,5]: 1.0\n",
      "x[1,6]: 1.0\n",
      "x[2,7]: 1.0\n",
      "x[3,8]: 1.0\n",
      "x[4,2]: 1.0\n",
      "x[5,4]: 1.0\n",
      "x[6,3]: 1.0\n",
      "x[7,1]: 1.0\n",
      "x[8,9]: 1.0\n",
      "x[9,10]: 1.0\n",
      "x[10,0]: 1.0\n",
      "y[1,2]: 1.0\n",
      "y[2,2]: 1.0\n",
      "y[3,2]: 1.0\n",
      "y[4,2]: 1.0\n",
      "y[5,1]: 1.0\n",
      "u[0]: 0.0\n",
      "u[1]: 5.0\n",
      "u[2]: 3.0\n",
      "u[3]: 7.0\n",
      "u[4]: 2.0\n",
      "u[5]: 1.0\n",
      "u[6]: 6.0\n",
      "u[7]: 4.0\n",
      "u[8]: 8.0\n",
      "u[9]: 9.0\n",
      "u[10]: 10.0\n",
      "s[0,0]: 0.0\n",
      "s[0,1]: 0.0\n",
      "s[0,2]: 0.0\n",
      "s[1,0]: -0.0\n",
      "s[1,1]: 400.0\n",
      "s[1,2]: 800.0\n",
      "s[2,0]: -0.0\n",
      "s[2,1]: 400.0\n",
      "s[2,2]: 800.0\n",
      "s[3,0]: -0.0\n",
      "s[3,1]: 400.0\n",
      "s[3,2]: 800.0\n",
      "s[4,0]: -0.0\n",
      "s[4,1]: 400.0\n",
      "s[4,2]: 400.0\n",
      "s[5,0]: -0.0\n",
      "s[5,1]: 400.0\n",
      "s[5,2]: -0.0\n",
      "s[6,0]: -0.0\n",
      "s[6,1]: 400.0\n",
      "s[6,2]: 400.0\n",
      "s[7,0]: -0.0\n",
      "s[7,1]: 400.0\n",
      "s[7,2]: 400.0\n",
      "s[8,0]: -0.0\n",
      "s[8,1]: 400.0\n",
      "s[8,2]: 400.0\n",
      "s[9,0]: -0.0\n",
      "s[9,1]: 400.0\n",
      "s[9,2]: -0.0\n",
      "s[10,0]: -0.0\n",
      "s[10,1]: -0.0\n",
      "s[10,2]: -0.0\n",
      "Total cost: 139.0\n"
     ]
    }
   ],
   "source": [
    "def print_solution(optimized_model):\n",
    "    for var in optimized_model.getVars():\n",
    "        if abs(var.x) > 1e-6 or var.vtype != GRB.BINARY:\n",
    "            print(\"{0}: {1}\".format(var.varName, var.x))\n",
    "    print(\"Total cost: {0}\".format(optimized_model.objVal))\n",
    "    return None\n",
    "\n",
    "# display optimal values of decision variables\n",
    "print_solution(model)  "
   ]
  },
  {
   "cell_type": "code",
   "execution_count": 19,
   "metadata": {},
   "outputs": [
    {
     "name": "stdout",
     "output_type": "stream",
     "text": [
      "The order of visiting the vertices is [5, 4, 2, 7, 1, 6, 3, 8, 9, 10]\n",
      "\n",
      "@ Vertex: 5 pickup item 5 to 1\n",
      "@ Vertex: 4 pickup item 4 to 2\n",
      "@ Vertex: 2 pickup item 2 to 2\n",
      "@ Vertex: 7 deliver item 2 from 2\n",
      "@ Vertex: 1 pickup item 1 to 2\n",
      "@ Vertex: 6 deliver item 1 from 2\n",
      "@ Vertex: 3 pickup item 3 to 2\n",
      "@ Vertex: 8 deliver item 3 from 2\n",
      "@ Vertex: 9 deliver item 4 from 2\n",
      "@ Vertex: 10 deliver item 5 from 1\n"
     ]
    }
   ],
   "source": [
    "# The order of visiting the vertices\n",
    "nexts = [j for i in V for j in V if x[i, j].x == 1]\n",
    "\n",
    "# We always start at the depot\n",
    "order = [0] \n",
    "curr = nexts[0]\n",
    "\n",
    "# We always end at the depot\n",
    "while (curr !=0):\n",
    "    order.append(curr)\n",
    "    curr = nexts[curr]\n",
    "    \n",
    "print(f\"The order of visiting the vertices is {order[1:]}\\n\")\n",
    "for i in order[1:]:\n",
    "    action = \"pickup\" if i in P else \"deliver\"\n",
    "    prop = \"to\" if i in P else \"from\"\n",
    "    pick_idx = i if i in P else i - N\n",
    "    comp = next(k for k in M if abs(y[pick_idx, k].x) > 1e-6)\n",
    "    print(f\"@ Vertex: {i} {action} item {pick_idx} {prop} {comp}\")"
   ]
  }
 ],
 "metadata": {
  "interpreter": {
   "hash": "31f2aee4e71d21fbe5cf8b01ff0e069b9275f58929596ceb00d14d90e3e16cd6"
  },
  "kernelspec": {
   "display_name": "Python 3.8.10 64-bit",
   "language": "python",
   "name": "python3"
  },
  "language_info": {
   "codemirror_mode": {
    "name": "ipython",
    "version": 3
   },
   "file_extension": ".py",
   "mimetype": "text/x-python",
   "name": "python",
   "nbconvert_exporter": "python",
   "pygments_lexer": "ipython3",
   "version": "3.8.10"
  }
 },
 "nbformat": 4,
 "nbformat_minor": 4
}
