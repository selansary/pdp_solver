{
 "cells": [
  {
   "cell_type": "code",
   "execution_count": 25,
   "metadata": {},
   "outputs": [
    {
     "name": "stdout",
     "output_type": "stream",
     "text": [
      "[<matplotlib.axes._subplots.AxesSubplot object at 0x7f105e604a00>]\n"
     ]
    },
    {
     "data": {
      "image/png": "[encoded data removed]",
      "text/plain": [
       "<Figure size 432x288 with 1 Axes>"
      ]
     },
     "metadata": {
      "needs_background": "light"
     },
     "output_type": "display_data"
    }
   ],
   "source": [
    "import plotly.express as px\n",
    "import pandas as pd\n",
    "import matplotlib.pyplot as plt\n",
    "\n",
    "import seaborn as sns\n",
    "\n",
    "# Set the width and height of the figure\n",
    "# plt.figure(figsize=(10,6))\n",
    "fig = plt.figure()\n",
    "\n",
    "# Add title\n",
    "# plt.title(\"Average Arrival Delay for Spirit Airlines Flights, by Month\")\n",
    "\n",
    "# Bar chart showing average arrival delay for Spirit Airlines flights by month\n",
    "sns.barplot(x=[5, 7, 9, 11], y=[0.48, 2.67, 50.02, 500])\n",
    "\n",
    "# Add label for vertical axis\n",
    "plt.ylabel(\"Time in seconds\")\n",
    "plt.xlabel(\"Number of Items\")\n",
    "\n",
    "scale = [0, 0.2, 0.4, 0.5, 2, 10, 20, 50, 100, 200, 500]\n",
    "plt.yticks(scale, range(len(scale)))\n",
    "# plt.yscale('log')\n",
    "ax = fig.get_axes()\n",
    "print(ax)\n",
    "ax[0].autoscale(enable=True, tight=True)\n",
    "ax[0].set_yscale('log')\n",
    "ax[0].set_yticks(scale)\n",
    "plt.show()\n"
   ]
  },
  {
   "cell_type": "code",
   "execution_count": 47,
   "metadata": {},
   "outputs": [
    {
     "data": {
      "text/plain": [
       "Text(0.5, 0, 'Number of Items')"
      ]
     },
     "execution_count": 47,
     "metadata": {},
     "output_type": "execute_result"
    },
    {
     "data": {
      "image/png": "[encoded data removed]",
      "text/plain": [
       "<Figure size 432x288 with 1 Axes>"
      ]
     },
     "metadata": {
      "needs_background": "light"
     },
     "output_type": "display_data"
    }
   ],
   "source": [
    "import matplotlib\n",
    "from matplotlib import pyplot as plt\n",
    "fig1, ax1 = plt.subplots()\n",
    "sns.color_palette(\"viridis\")\n",
    "sns.set_palette(reversed(sns.color_palette(\"Spectral\", 4)), 4)\n",
    "sns.barplot(x=[5, 7, 9, 11], y=[0.48, 2.67, 50.02, 500])\n",
    "\n",
    "sns.barplot(x=[5, 7, 9, 11], y=[0.48, 2.67, 50.02, 500])\n",
    "ax1.set_yscale('log')\n",
    "ax1.set_yticks([0.48, 2.67, 50.02, 500])\n",
    "ax1.get_yaxis().set_major_formatter(matplotlib.ticker.ScalarFormatter())\n",
    "\n",
    "# Add label for vertical axis\n",
    "plt.title(\"Solving time by exact solver\")\n",
    "plt.ylabel(\"Time in seconds\")\n",
    "plt.xlabel(\"Number of Items\")"
   ]
  }
 ],
 "metadata": {
  "language_info": {
   "name": "python"
  },
  "orig_nbformat": 4
 },
 "nbformat": 4,
 "nbformat_minor": 2
}
